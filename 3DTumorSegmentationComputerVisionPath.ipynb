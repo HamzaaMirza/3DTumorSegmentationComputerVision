{
  "nbformat": 4,
  "nbformat_minor": 0,
  "metadata": {
    "colab": {
      "provenance": []
    },
    "kernelspec": {
      "name": "python3",
      "display_name": "Python 3"
    },
    "language_info": {
      "name": "python"
    }
  },
  "cells": [
    {
      "cell_type": "markdown",
      "source": [
        "#Computer Vision Path\n",
        "###3D MRI Segmentation\n",
        "\n",
        "This project builds upon my previous project in which I learnt about computer vision and used deep learning framework tensorflow to train and test a U net model that segments 2D brain MRI scans to look for tumors.\n",
        "\n",
        "In this project I will train and test a U net model that will do the same but with 3D MRI scans and this will be much more closer to real life application.\n",
        "I will be using AI to assist me in this project as this is a learning experience for me.\n",
        "\n",
        "So, Our goal is to build a model that can process an entire 3D MRI volume and produce a 3D segmentation map of a brain tumor\n",
        "\n",
        "Lastly, an idea for this project is that I will try to do this project in a  complete MLOps pipeline and try to create a FastAPI and deploy the model."
      ],
      "metadata": {
        "id": "70maBAgLCnob"
      }
    },
    {
      "cell_type": "markdown",
      "source": [
        "The following code block shows the working of a 3D U net model that we will use for our project"
      ],
      "metadata": {
        "id": "tiYgbvSBzFPj"
      }
    },
    {
      "cell_type": "code",
      "source": [
        "'''\n",
        "[ 3D MRI Input Volume ]\n",
        "(e.g., 128x128x128x4)\n",
        "        |\n",
        "        V\n",
        "+---------------------+\n",
        "|   ENCODER PATH      |\n",
        "| (Contraction)       |\n",
        "| - 3D Conv Blocks    |\n",
        "| - 3D Max Pooling    |\n",
        "| (Shrinks Volume,    |\n",
        "|  Extracts Features) |\n",
        "+---------------------+\n",
        "        |\n",
        "        V\n",
        "+---------------------+\n",
        "|     BOTTLENECK      |\n",
        "| (Smallest Feature   |\n",
        "|  Representation)    |\n",
        "+---------------------+\n",
        "        |\n",
        "        V\n",
        "+---------------------+\n",
        "|    DECODER PATH     |\n",
        "| (Expansion)         |\n",
        "| - 3D Transposed Conv|\n",
        "| - Skip Connections  |\n",
        "| - 3D Conv Blocks    |\n",
        "| (Expands Volume,    |\n",
        "|  Localizes Features)|\n",
        "+---------------------+\n",
        "        |\n",
        "        V\n",
        "[ Final 3D Mask Output ]\n",
        "(e.g., 128x128x128x1)\n",
        "'''\n",
        "\n",
        "'''\n",
        "Input (128x128x128)\n",
        "  |\n",
        "  +--> [Conv Block 1] ---> Output_1 (128x128x128)\n",
        "  |        |\n",
        "  |        V\n",
        "  |    [Max Pool]\n",
        "  |        |\n",
        "  |        V\n",
        "  +--> [Conv Block 2] ---> Output_2 (64x64x64)\n",
        "  |        |\n",
        "  |        V\n",
        "  |    [Max Pool]\n",
        "  |        |\n",
        "  |        V\n",
        "  |   [Bottleneck Conv Block]\n",
        "  |        |\n",
        "  |        V\n",
        "  |  [Transposed Conv] --- (merge with Output_2 via Skip Connection)\n",
        "  |        |\n",
        "  |        V\n",
        "  +---- [Conv Block 3]\n",
        "           |\n",
        "           V\n",
        "     [Transposed Conv] --- (merge with Output_1 via Skip Connection)\n",
        "           |\n",
        "           V\n",
        "       [Conv Block 4]\n",
        "           |\n",
        "           V\n",
        "      Final Output Mask (128x128x128)\n",
        "'''"
      ],
      "metadata": {
        "colab": {
          "base_uri": "https://localhost:8080/",
          "height": 165
        },
        "id": "eb5-vln3xWmW",
        "outputId": "4f6de153-0d8d-4831-9505-5409ce5b4c7c"
      },
      "execution_count": 4,
      "outputs": [
        {
          "output_type": "execute_result",
          "data": {
            "text/plain": [
              "'\\nInput (128x128x128)\\n  |\\n  +--> [Conv Block 1] ---> Output_1 (128x128x128)\\n  |        |\\n  |        V\\n  |    [Max Pool]\\n  |        |\\n  |        V\\n  +--> [Conv Block 2] ---> Output_2 (64x64x64)\\n  |        |\\n  |        V\\n  |    [Max Pool]\\n  |        |\\n  |        V\\n  |   [Bottleneck Conv Block]\\n  |        |\\n  |        V\\n  |  [Transposed Conv] --- (merge with Output_2 via Skip Connection)\\n  |        |\\n  |        V\\n  +---- [Conv Block 3]\\n           |\\n           V\\n     [Transposed Conv] --- (merge with Output_1 via Skip Connection)\\n           |\\n           V\\n       [Conv Block 4]\\n           |\\n           V\\n      Final Output Mask (128x128x128)\\n'"
            ],
            "application/vnd.google.colaboratory.intrinsic+json": {
              "type": "string"
            }
          },
          "metadata": {},
          "execution_count": 4
        }
      ]
    },
    {
      "cell_type": "code",
      "source": [
        "from google.colab import files\n",
        "# This will prompt you to upload your kaggle.json file\n",
        "files.upload()\n",
        "\n",
        "!mkdir -p ~/.kaggle\n",
        "!cp kaggle.json ~/.kaggle/\n",
        "!chmod 600 ~/.kaggle/kaggle.json"
      ],
      "metadata": {
        "colab": {
          "base_uri": "https://localhost:8080/",
          "height": 73
        },
        "id": "O5nyQMdgxzGE",
        "outputId": "48373428-1b7a-40ea-9ed6-cd3fe3f1e6f1"
      },
      "execution_count": 2,
      "outputs": [
        {
          "output_type": "display_data",
          "data": {
            "text/plain": [
              "<IPython.core.display.HTML object>"
            ],
            "text/html": [
              "\n",
              "     <input type=\"file\" id=\"files-b1f645d4-eb45-4b04-9087-5cbd43077c44\" name=\"files[]\" multiple disabled\n",
              "        style=\"border:none\" />\n",
              "     <output id=\"result-b1f645d4-eb45-4b04-9087-5cbd43077c44\">\n",
              "      Upload widget is only available when the cell has been executed in the\n",
              "      current browser session. Please rerun this cell to enable.\n",
              "      </output>\n",
              "      <script>// Copyright 2017 Google LLC\n",
              "//\n",
              "// Licensed under the Apache License, Version 2.0 (the \"License\");\n",
              "// you may not use this file except in compliance with the License.\n",
              "// You may obtain a copy of the License at\n",
              "//\n",
              "//      http://www.apache.org/licenses/LICENSE-2.0\n",
              "//\n",
              "// Unless required by applicable law or agreed to in writing, software\n",
              "// distributed under the License is distributed on an \"AS IS\" BASIS,\n",
              "// WITHOUT WARRANTIES OR CONDITIONS OF ANY KIND, either express or implied.\n",
              "// See the License for the specific language governing permissions and\n",
              "// limitations under the License.\n",
              "\n",
              "/**\n",
              " * @fileoverview Helpers for google.colab Python module.\n",
              " */\n",
              "(function(scope) {\n",
              "function span(text, styleAttributes = {}) {\n",
              "  const element = document.createElement('span');\n",
              "  element.textContent = text;\n",
              "  for (const key of Object.keys(styleAttributes)) {\n",
              "    element.style[key] = styleAttributes[key];\n",
              "  }\n",
              "  return element;\n",
              "}\n",
              "\n",
              "// Max number of bytes which will be uploaded at a time.\n",
              "const MAX_PAYLOAD_SIZE = 100 * 1024;\n",
              "\n",
              "function _uploadFiles(inputId, outputId) {\n",
              "  const steps = uploadFilesStep(inputId, outputId);\n",
              "  const outputElement = document.getElementById(outputId);\n",
              "  // Cache steps on the outputElement to make it available for the next call\n",
              "  // to uploadFilesContinue from Python.\n",
              "  outputElement.steps = steps;\n",
              "\n",
              "  return _uploadFilesContinue(outputId);\n",
              "}\n",
              "\n",
              "// This is roughly an async generator (not supported in the browser yet),\n",
              "// where there are multiple asynchronous steps and the Python side is going\n",
              "// to poll for completion of each step.\n",
              "// This uses a Promise to block the python side on completion of each step,\n",
              "// then passes the result of the previous step as the input to the next step.\n",
              "function _uploadFilesContinue(outputId) {\n",
              "  const outputElement = document.getElementById(outputId);\n",
              "  const steps = outputElement.steps;\n",
              "\n",
              "  const next = steps.next(outputElement.lastPromiseValue);\n",
              "  return Promise.resolve(next.value.promise).then((value) => {\n",
              "    // Cache the last promise value to make it available to the next\n",
              "    // step of the generator.\n",
              "    outputElement.lastPromiseValue = value;\n",
              "    return next.value.response;\n",
              "  });\n",
              "}\n",
              "\n",
              "/**\n",
              " * Generator function which is called between each async step of the upload\n",
              " * process.\n",
              " * @param {string} inputId Element ID of the input file picker element.\n",
              " * @param {string} outputId Element ID of the output display.\n",
              " * @return {!Iterable<!Object>} Iterable of next steps.\n",
              " */\n",
              "function* uploadFilesStep(inputId, outputId) {\n",
              "  const inputElement = document.getElementById(inputId);\n",
              "  inputElement.disabled = false;\n",
              "\n",
              "  const outputElement = document.getElementById(outputId);\n",
              "  outputElement.innerHTML = '';\n",
              "\n",
              "  const pickedPromise = new Promise((resolve) => {\n",
              "    inputElement.addEventListener('change', (e) => {\n",
              "      resolve(e.target.files);\n",
              "    });\n",
              "  });\n",
              "\n",
              "  const cancel = document.createElement('button');\n",
              "  inputElement.parentElement.appendChild(cancel);\n",
              "  cancel.textContent = 'Cancel upload';\n",
              "  const cancelPromise = new Promise((resolve) => {\n",
              "    cancel.onclick = () => {\n",
              "      resolve(null);\n",
              "    };\n",
              "  });\n",
              "\n",
              "  // Wait for the user to pick the files.\n",
              "  const files = yield {\n",
              "    promise: Promise.race([pickedPromise, cancelPromise]),\n",
              "    response: {\n",
              "      action: 'starting',\n",
              "    }\n",
              "  };\n",
              "\n",
              "  cancel.remove();\n",
              "\n",
              "  // Disable the input element since further picks are not allowed.\n",
              "  inputElement.disabled = true;\n",
              "\n",
              "  if (!files) {\n",
              "    return {\n",
              "      response: {\n",
              "        action: 'complete',\n",
              "      }\n",
              "    };\n",
              "  }\n",
              "\n",
              "  for (const file of files) {\n",
              "    const li = document.createElement('li');\n",
              "    li.append(span(file.name, {fontWeight: 'bold'}));\n",
              "    li.append(span(\n",
              "        `(${file.type || 'n/a'}) - ${file.size} bytes, ` +\n",
              "        `last modified: ${\n",
              "            file.lastModifiedDate ? file.lastModifiedDate.toLocaleDateString() :\n",
              "                                    'n/a'} - `));\n",
              "    const percent = span('0% done');\n",
              "    li.appendChild(percent);\n",
              "\n",
              "    outputElement.appendChild(li);\n",
              "\n",
              "    const fileDataPromise = new Promise((resolve) => {\n",
              "      const reader = new FileReader();\n",
              "      reader.onload = (e) => {\n",
              "        resolve(e.target.result);\n",
              "      };\n",
              "      reader.readAsArrayBuffer(file);\n",
              "    });\n",
              "    // Wait for the data to be ready.\n",
              "    let fileData = yield {\n",
              "      promise: fileDataPromise,\n",
              "      response: {\n",
              "        action: 'continue',\n",
              "      }\n",
              "    };\n",
              "\n",
              "    // Use a chunked sending to avoid message size limits. See b/62115660.\n",
              "    let position = 0;\n",
              "    do {\n",
              "      const length = Math.min(fileData.byteLength - position, MAX_PAYLOAD_SIZE);\n",
              "      const chunk = new Uint8Array(fileData, position, length);\n",
              "      position += length;\n",
              "\n",
              "      const base64 = btoa(String.fromCharCode.apply(null, chunk));\n",
              "      yield {\n",
              "        response: {\n",
              "          action: 'append',\n",
              "          file: file.name,\n",
              "          data: base64,\n",
              "        },\n",
              "      };\n",
              "\n",
              "      let percentDone = fileData.byteLength === 0 ?\n",
              "          100 :\n",
              "          Math.round((position / fileData.byteLength) * 100);\n",
              "      percent.textContent = `${percentDone}% done`;\n",
              "\n",
              "    } while (position < fileData.byteLength);\n",
              "  }\n",
              "\n",
              "  // All done.\n",
              "  yield {\n",
              "    response: {\n",
              "      action: 'complete',\n",
              "    }\n",
              "  };\n",
              "}\n",
              "\n",
              "scope.google = scope.google || {};\n",
              "scope.google.colab = scope.google.colab || {};\n",
              "scope.google.colab._files = {\n",
              "  _uploadFiles,\n",
              "  _uploadFilesContinue,\n",
              "};\n",
              "})(self);\n",
              "</script> "
            ]
          },
          "metadata": {}
        },
        {
          "output_type": "stream",
          "name": "stdout",
          "text": [
            "Saving kaggle.json to kaggle.json\n"
          ]
        }
      ]
    },
    {
      "cell_type": "code",
      "source": [
        "# --- 2. Download the BraTS 2020 Dataset (Corrected Command) ---\n",
        "# We are now using 'kaggle datasets download -d'\n",
        "!kaggle datasets download -d awsaf49/brats20-dataset-training-validation"
      ],
      "metadata": {
        "colab": {
          "base_uri": "https://localhost:8080/"
        },
        "id": "uXxefzHLjtYI",
        "outputId": "4c4c45b6-5726-42d6-ea5b-f66db95eba3a"
      },
      "execution_count": 3,
      "outputs": [
        {
          "output_type": "stream",
          "name": "stdout",
          "text": [
            "Dataset URL: https://www.kaggle.com/datasets/awsaf49/brats20-dataset-training-validation\n",
            "License(s): CC0-1.0\n",
            "Downloading brats20-dataset-training-validation.zip to /content\n",
            "100% 4.15G/4.16G [00:47<00:00, 39.0MB/s]\n",
            "100% 4.16G/4.16G [00:48<00:00, 92.9MB/s]\n"
          ]
        }
      ]
    },
    {
      "cell_type": "code",
      "source": [
        "# The zip file will have a different name now, so we unzip the correct one.\n",
        "!unzip -q brats20-dataset-training-validation.zip -d brats2020_data"
      ],
      "metadata": {
        "id": "7f5oVa_uk1da"
      },
      "execution_count": 5,
      "outputs": []
    },
    {
      "cell_type": "code",
      "source": [
        "# --- 4. Install the necessary library for medical imaging ---\n",
        "!pip install nibabel"
      ],
      "metadata": {
        "colab": {
          "base_uri": "https://localhost:8080/"
        },
        "id": "wkiU4ZctmhsT",
        "outputId": "cc6dbf88-ef96-492e-dc0b-324f2b7ef58f"
      },
      "execution_count": 4,
      "outputs": [
        {
          "output_type": "stream",
          "name": "stdout",
          "text": [
            "Requirement already satisfied: nibabel in /usr/local/lib/python3.12/dist-packages (5.3.2)\n",
            "Requirement already satisfied: numpy>=1.22 in /usr/local/lib/python3.12/dist-packages (from nibabel) (2.0.2)\n",
            "Requirement already satisfied: packaging>=20 in /usr/local/lib/python3.12/dist-packages (from nibabel) (25.0)\n",
            "Requirement already satisfied: typing-extensions>=4.6 in /usr/local/lib/python3.12/dist-packages (from nibabel) (4.14.1)\n"
          ]
        }
      ]
    },
    {
      "cell_type": "code",
      "source": [
        "import nibabel as nib\n",
        "import matplotlib.pyplot as plt\n",
        "import os\n",
        "import numpy as np\n",
        "\n",
        "# --- Let's first list the directories to confirm the structure ---\n",
        "print(\"--- Directory Listing ---\")\n",
        "!ls brats2020_data/BraTS2020_TrainingData/MICCAI_BraTS2020_TrainingData/BraTS20_Training_001/\n",
        "\n",
        "# --- Define the CORRECTED path to our data ---\n",
        "# The patient folders are inside the 'MICCAI_BraTS2020_TrainingData' directory\n",
        "data_path = 'brats2020_data/BraTS2020_TrainingData/MICCAI_BraTS2020_TrainingData'\n",
        "\n",
        "# --- Pick a single patient folder to inspect ---\n",
        "patient_folder = 'BraTS20_Training_001'\n",
        "patient_path = os.path.join(data_path, patient_folder)\n",
        "\n",
        "# Construct the full path to the FLAIR scan file\n",
        "# The file names are likely nested within the patient folder directly\n",
        "flair_scan_path = os.path.join(patient_path, f'{patient_folder}_flair.nii')\n",
        "\n",
        "# --- Load the 3D Scan using nibabel ---\n",
        "print(\"\\n--- Loading Scan ---\")\n",
        "flair_scan = nib.load(flair_scan_path)\n",
        "\n",
        "# --- Get the data as a NumPy array ---\n",
        "flair_array = flair_scan.get_fdata()\n",
        "\n",
        "# --- Inspect the data ---\n",
        "print(f\"Shape of the 3D scan: {flair_array.shape}\")\n",
        "print(f\"Data type: {flair_array.dtype}\")\n",
        "\n",
        "# --- Visualize a single 2D slice from the middle of the 3D volume ---\n",
        "middle_slice_index = flair_array.shape[2] // 2\n",
        "middle_slice = flair_array[:, :, middle_slice_index]\n",
        "\n",
        "plt.figure(figsize=(6, 6))\n",
        "plt.imshow(middle_slice.T, cmap='gray', origin='lower')\n",
        "plt.title(f'Middle Slice ({middle_slice_index}) of a FLAIR Scan')\n",
        "plt.axis('off')\n",
        "plt.show()"
      ],
      "metadata": {
        "colab": {
          "base_uri": "https://localhost:8080/",
          "height": 669
        },
        "id": "MIU8WnaBm1uR",
        "outputId": "d3a3fb7e-7a8e-4c26-ecd0-bd3ee2995a0d"
      },
      "execution_count": 5,
      "outputs": [
        {
          "output_type": "stream",
          "name": "stdout",
          "text": [
            "--- Directory Listing ---\n",
            "BraTS20_Training_001_flair.nii\tBraTS20_Training_001_t1.nii\n",
            "BraTS20_Training_001_seg.nii\tBraTS20_Training_001_t2.nii\n",
            "BraTS20_Training_001_t1ce.nii\n",
            "\n",
            "--- Loading Scan ---\n",
            "Shape of the 3D scan: (240, 240, 155)\n",
            "Data type: float64\n"
          ]
        },
        {
          "output_type": "display_data",
          "data": {
            "text/plain": [
              "<Figure size 600x600 with 1 Axes>"
            ],
            "image/png": "[encoded data removed]"
          },
          "metadata": {}
        }
      ]
    },
    {
      "cell_type": "code",
      "metadata": {
        "colab": {
          "base_uri": "https://localhost:8080/"
        },
        "id": "7e04786c",
        "outputId": "16ba918c-f7bf-4aa6-8651-0ef3a899ce33"
      },
      "source": [
        "# List the contents of the main data directory to understand the structure\n",
        "!ls brats2020_data/"
      ],
      "execution_count": 6,
      "outputs": [
        {
          "output_type": "stream",
          "name": "stdout",
          "text": [
            "BraTS2020_TrainingData\tBraTS2020_ValidationData\n"
          ]
        }
      ]
    },
    {
      "cell_type": "code",
      "metadata": {
        "colab": {
          "base_uri": "https://localhost:8080/"
        },
        "id": "eae01900",
        "outputId": "6c07992c-f525-4eac-d71e-3cd79765757e"
      },
      "source": [
        "# List the contents of the training data directory\n",
        "!ls brats2020_data/BraTS2020_TrainingData/"
      ],
      "execution_count": 7,
      "outputs": [
        {
          "output_type": "stream",
          "name": "stdout",
          "text": [
            "MICCAI_BraTS2020_TrainingData\n"
          ]
        }
      ]
    },
    {
      "cell_type": "code",
      "source": [
        "data_path = 'brats2020_data/BraTS2020_TrainingData/MICCAI_BraTS2020_TrainingData'\n",
        "\n",
        "# --- Pick a single patient folder to process ---\n",
        "patient_folder = 'BraTS20_Training_001'\n",
        "patient_path = os.path.join(data_path, patient_folder)\n",
        "\n",
        "# --- Load all 5 volumes for the patient ---\n",
        "modalities = ['flair', 't1', 't1ce', 't2', 'seg']\n",
        "patient_volumes = {}\n",
        "\n",
        "for mod in modalities:\n",
        "    # Construct the full path using the correct .nii extension\n",
        "    scan_path = os.path.join(patient_path, f'{patient_folder}_{mod}.nii')\n",
        "\n",
        "    # Load the 3D Scan and get its data as a NumPy array\n",
        "    patient_volumes[mod] = nib.load(scan_path).get_fdata()\n",
        "    print(f\"Loaded '{mod}' with shape: {patient_volumes[mod].shape}\")\n",
        "\n",
        "\n",
        "# --- Stack the 4 input modalities into a single 4D array ---\n",
        "# We stack them along a new, final axis to create the channels\n",
        "combined_scan = np.stack([\n",
        "    patient_volumes['flair'],\n",
        "    patient_volumes['t1'],\n",
        "    patient_volumes['t1ce'],\n",
        "    patient_volumes['t2']\n",
        "], axis=-1)\n",
        "\n",
        "# The segmentation mask is our target, so we keep it separate\n",
        "segmentation_mask = patient_volumes['seg']\n",
        "\n",
        "\n",
        "# --- Inspect the final prepared data ---\n",
        "print(\"\\n--- Final Shapes ---\")\n",
        "print(f\"Shape of the combined input scan: {combined_scan.shape}\")\n",
        "print(f\"Shape of the segmentation mask: {segmentation_mask.shape}\")"
      ],
      "metadata": {
        "colab": {
          "base_uri": "https://localhost:8080/"
        },
        "id": "EoHdJbnnn59W",
        "outputId": "9c216fdb-d9c9-4e83-f433-ee3fbb91917d"
      },
      "execution_count": 8,
      "outputs": [
        {
          "output_type": "stream",
          "name": "stdout",
          "text": [
            "Loaded 'flair' with shape: (240, 240, 155)\n",
            "Loaded 't1' with shape: (240, 240, 155)\n",
            "Loaded 't1ce' with shape: (240, 240, 155)\n",
            "Loaded 't2' with shape: (240, 240, 155)\n",
            "Loaded 'seg' with shape: (240, 240, 155)\n",
            "\n",
            "--- Final Shapes ---\n",
            "Shape of the combined input scan: (240, 240, 155, 4)\n",
            "Shape of the segmentation mask: (240, 240, 155)\n"
          ]
        }
      ]
    },
    {
      "cell_type": "code",
      "source": [
        "# --- Visualize the original multi-class segmentation mask ---\n",
        "middle_slice_index = segmentation_mask.shape[2] // 2\n",
        "original_mask_slice = segmentation_mask[:, :, middle_slice_index]\n",
        "\n",
        "plt.figure(figsize=(12, 6))\n",
        "\n",
        "plt.subplot(1, 2, 1)\n",
        "# We use a color map to see the different integer labels\n",
        "plt.imshow(original_mask_slice.T, cmap='viridis', origin='lower')\n",
        "plt.title(f'Original Multi-Class Mask (Slice {middle_slice_index})')\n",
        "plt.axis('off')\n",
        "\n",
        "\n",
        "# --- Simplify the mask to a binary format ---\n",
        "# Any voxel with a label > 0 is considered part of the tumor.\n",
        "# We convert the boolean mask (True/False) to an integer mask (1/0).\n",
        "binary_mask = (segmentation_mask > 0).astype(np.uint8)\n",
        "binary_mask_slice = binary_mask[:, :, middle_slice_index]\n",
        "\n",
        "# --- Visualize the new binary mask ---\n",
        "plt.subplot(1, 2, 2)\n",
        "plt.imshow(binary_mask_slice.T, cmap='gray', origin='lower')\n",
        "plt.title(f'New Binary Mask (Slice {middle_slice_index})')\n",
        "plt.axis('off')\n",
        "\n",
        "plt.show()\n",
        "\n",
        "# Verify the unique values in the new binary mask\n",
        "print(\"Unique values in the original mask:\", np.unique(segmentation_mask))\n",
        "print(\"Unique values in the new binary mask:\", np.unique(binary_mask))"
      ],
      "metadata": {
        "colab": {
          "base_uri": "https://localhost:8080/",
          "height": 368
        },
        "id": "r2HJFilZviL-",
        "outputId": "08192d36-eb48-40df-80e0-b46a4d9894d5"
      },
      "execution_count": 9,
      "outputs": [
        {
          "output_type": "display_data",
          "data": {
            "text/plain": [
              "<Figure size 1200x600 with 2 Axes>"
            ],
            "image/png": "[encoded data removed]"
          },
          "metadata": {}
        },
        {
          "output_type": "stream",
          "name": "stdout",
          "text": [
            "Unique values in the original mask: [0. 1. 2. 4.]\n",
            "Unique values in the new binary mask: [0 1]\n"
          ]
        }
      ]
    },
    {
      "cell_type": "code",
      "source": [
        "#using combined_scan and binary_mask in the previous code block\n",
        "\n",
        "#Verifying the shape of these two\n",
        "print(f\"Shape of combined_scan: {combined_scan.shape}\")\n",
        "print(f\"Shape of binary_mask: {binary_mask.shape}\")\n",
        "\n",
        "#We are doing this to crop the image and get rid of all the black space\n",
        "#Finding the coordinates of all the non zero voxels\n",
        "\n",
        "#Again, We will check only one channel For example the FLAIR channel\n",
        "\n",
        "non_zero_indices = np.where(combined_scan[:, :, :, 0] != 0)\n",
        "\n",
        "#Printing out the shape of the output\n",
        "print(\"\\nShape of the coordinates array:\", non_zero_indices[0].shape)"
      ],
      "metadata": {
        "colab": {
          "base_uri": "https://localhost:8080/"
        },
        "id": "WiZMibd3yOpR",
        "outputId": "4a28f1ff-c8c3-4403-b330-7c3df5d4f11b"
      },
      "execution_count": 10,
      "outputs": [
        {
          "output_type": "stream",
          "name": "stdout",
          "text": [
            "Shape of combined_scan: (240, 240, 155, 4)\n",
            "Shape of binary_mask: (240, 240, 155)\n",
            "\n",
            "Shape of the coordinates array: (1342885,)\n"
          ]
        }
      ]
    },
    {
      "cell_type": "code",
      "source": [
        "#Now we will find  the minimum corner of the bounding box\n",
        "min_indices = np.min(non_zero_indices, axis = 1)\n",
        "\n",
        "#Next we find the maximum corner of the bounding box in the same way\n",
        "max_indices = np.max(non_zero_indices, axis = 1)\n",
        "\n",
        "#Printing them out\n",
        "print(f\"Bounding Box Min Corner (x,y,z): {min_indices}\")\n",
        "print(f\"Bounding Box Max Corner (x,y,z): {max_indices}\")\n",
        "\n",
        "\n",
        "#Now we have the coordinates, We will use these coordinates to crop the scan and the mask\n",
        "scan_cropped = combined_scan[min_indices[0]:max_indices[0], min_indices[1]:max_indices[1], min_indices[2]:max_indices[2]]\n",
        "mask_cropped = binary_mask[min_indices[0]:max_indices[0], min_indices[1]:max_indices[1], min_indices[2]:max_indices[2]]\n",
        "\n",
        "print(f\"\\nOriginal scan shape: {combined_scan.shape}\")\n",
        "print(f\"Cropped scan shape: {scan_cropped.shape}\")"
      ],
      "metadata": {
        "colab": {
          "base_uri": "https://localhost:8080/"
        },
        "id": "_01EU5g3hmh4",
        "outputId": "18419130-2a9b-4fd3-8045-5ee7399c968f"
      },
      "execution_count": 11,
      "outputs": [
        {
          "output_type": "stream",
          "name": "stdout",
          "text": [
            "Bounding Box Min Corner (x,y,z): [49 42  4]\n",
            "Bounding Box Max Corner (x,y,z): [185 214 138]\n",
            "\n",
            "Original scan shape: (240, 240, 155, 4)\n",
            "Cropped scan shape: (136, 172, 134, 4)\n"
          ]
        }
      ]
    },
    {
      "cell_type": "code",
      "source": [
        "#Next step would be to normalize\n",
        "\n",
        "#Now again we will only select the non zero voxels from the cropped scan\n",
        "#In the previous step we cropped the image into a smaller bounding box\n",
        "\n",
        "brain_voxels = scan_cropped[scan_cropped != 0]\n",
        "\n",
        "#Now we will calculate the mean and standard deviation of these brain voxels\n",
        "mean = np.mean(brain_voxels)\n",
        "std = np.std(brain_voxels)\n",
        "\n",
        "#Now we will normalize the scan\n",
        "scan_normalized = (scan_cropped - mean)/std\n",
        "\n",
        "#The background (orginally 0) now has a non zero value. We have to set it to the new minimum\n",
        "scan_normalized[scan_cropped == 0] = np.min(scan_normalized)\n",
        "\n",
        "print(f\"Mean of normalized brain tissue: {scan_normalized[scan_cropped != 0].mean():.2f}\")\n",
        "print(f\"Std Dev of normalized brain tissue: {scan_normalized[scan_cropped != 0].std():.2f}\")"
      ],
      "metadata": {
        "colab": {
          "base_uri": "https://localhost:8080/"
        },
        "id": "5rd8zFVHjCrN",
        "outputId": "a904dc37-ca2d-4469-a87a-d57061a6628a"
      },
      "execution_count": 12,
      "outputs": [
        {
          "output_type": "stream",
          "name": "stdout",
          "text": [
            "Mean of normalized brain tissue: -0.00\n",
            "Std Dev of normalized brain tissue: 1.00\n"
          ]
        }
      ]
    },
    {
      "cell_type": "code",
      "source": [
        "#Since we cropped based on the non zero pixels and the bounding box is also based on that. So, each patient's brain volume will\n",
        "#slightly different shape. So we need to resize everything to have a standard 128 x 128 x 128 cube.\n",
        "\n",
        "from scipy.ndimage  import zoom\n",
        "\n",
        "#this is our target shape/dimension\n",
        "target_shape = (64, 64, 64)\n",
        "\n",
        "#Calculating the resize factors for each dimension\n",
        "current_shape = mask_cropped.shape\n",
        "resize_factors = [t / s for t, s in zip(target_shape, current_shape)]\n",
        "\n",
        "#Resizing the mask\n",
        "#using order=0 (nearest neighbour) for the mask to keep the 0s and 1s intact\n",
        "mask_resized = zoom(mask_cropped, resize_factors, order=0)\n",
        "\n",
        "#Resizing the 4 channel normalized scan\n",
        "scan_resized = np.stack([\n",
        "    zoom(scan_normalized[:, :, :, i], resize_factors, order =1) for i in range(4)\n",
        "], axis=-1)\n",
        "\n",
        "print(f\"\\nFinal scan shape: {scan_resized.shape}\")\n",
        "print(f\"Final mask shape: {mask_resized.shape}\")"
      ],
      "metadata": {
        "colab": {
          "base_uri": "https://localhost:8080/"
        },
        "id": "3siBgORPmsDb",
        "outputId": "a6ef4475-3691-48d5-d187-cb2c3efb41a9"
      },
      "execution_count": 13,
      "outputs": [
        {
          "output_type": "stream",
          "name": "stdout",
          "text": [
            "\n",
            "Final scan shape: (64, 64, 64, 4)\n",
            "Final mask shape: (64, 64, 64)\n"
          ]
        }
      ]
    },
    {
      "cell_type": "markdown",
      "source": [
        "###Preprocessing Function:\n",
        "The code above shows us the main idea of preprocessing. We also want to create a function that would take a small batch of our data and preprocess it using the above given techniques. Basically a preprocessing pipeline\n"
      ],
      "metadata": {
        "id": "hrIYtwEqo6jz"
      }
    },
    {
      "cell_type": "markdown",
      "source": [
        "## Blueprint for Your Own Preprocessing Functions\n",
        "When you start a new project, here's a checklist of what to keep in mind for your preprocessing function.\n",
        "\n",
        "What's the Goal? Consistency. The primary goal is to transform your raw, varied data into a perfectly consistent format. Every single sample fed to your model must have the exact same shape and data range.\n",
        "\n",
        "Unify the Shape:\n",
        "\n",
        "Is there irrelevant information I can crop out (e.g., empty space, image borders)?\n",
        "\n",
        "What is the final, fixed size that all my samples need to be? (e.g., 128x128x128). Use padding or resizing (zoom) to enforce this.\n",
        "\n",
        "Standardize the Values (Normalization):\n",
        "\n",
        "How will I scale my input features? Common choices are Z-score normalization (mean=0, std=1) or Min-Max scaling (to a [0, 1] or [-1, 1] range).\n",
        "\n",
        "Make sure you calculate statistics (like mean, std) only on your training set and then apply them to your validation and test sets.\n",
        "\n",
        "Prepare the Target Variable:\n",
        "\n",
        "What format does my model's loss function expect?\n",
        "\n",
        "Do I need to convert a multi-class mask to a binary one?\n",
        "\n",
        "Do I need to one-hot encode my labels for a multi-class classification problem?\n",
        "\n",
        "Be Robust (try...except):\n",
        "\n",
        "Real-world datasets often have corrupted or missing files. Always wrap your file-loading and processing logic in a try...except block. This prevents your entire multi-hour pipeline from crashing because of one bad file.\n",
        "\n",
        "Be Efficient (Save Your Work):\n",
        "\n",
        "Preprocessing can be very slow. It's almost always a good idea for your function to save the final, processed arrays to disk (e.g., as .npy files). This way, you can run the slow pipeline once and then load the clean data instantly for all future experiments."
      ],
      "metadata": {
        "id": "n69M61tasCfX"
      }
    },
    {
      "cell_type": "code",
      "source": [
        "from sklearn.model_selection import train_test_split\n",
        "from tqdm import tqdm\n",
        "from scipy.ndimage  import zoom # Import zoom\n",
        "\n",
        "def preprocess_and_save(patient_id, base_path, save_path_scans, save_path_masks):\n",
        "    try:\n",
        "        # Get the full path to the patient's folder\n",
        "        patient_path = os.path.join(base_path, patient_id)\n",
        "\n",
        "        # Load Scans and Mask\n",
        "        modalities = ['flair', 't1', 't1ce', 't2']\n",
        "        scan_volumes = [nib.load(os.path.join(patient_path, f'{patient_id}_{mod}.nii')).get_fdata() for mod in modalities]\n",
        "        # Correct the file extension for the segmentation mask\n",
        "        seg_mask = nib.load(os.path.join(patient_path, f'{patient_id}_seg.nii')).get_fdata()\n",
        "\n",
        "        # Stack scans and create a binary mask\n",
        "        scan_stacked = np.stack(scan_volumes, axis=-1)\n",
        "        mask_binary = (seg_mask > 0).astype(np.uint8)\n",
        "\n",
        "        # Crop to Brain Region\n",
        "        non_zero_indices = np.where(scan_stacked[:, :, :, 0] != 0)\n",
        "        min_indices = np.min(non_zero_indices, axis=1)\n",
        "        max_indices = np.max(non_zero_indices, axis=1)\n",
        "        scan_cropped = scan_stacked[min_indices[0]:max_indices[0], min_indices[1]:max_indices[1], min_indices[2]:max_indices[2], :]\n",
        "        mask_cropped = mask_binary[min_indices[0]:max_indices[0], min_indices[1]:max_indices[1], min_indices[2]:max_indices[2]]\n",
        "\n",
        "        # Normalize the Cropped Scan\n",
        "        brain_voxels = scan_cropped[scan_cropped != 0]\n",
        "        mean = brain_voxels.mean()\n",
        "        std = brain_voxels.std()\n",
        "        scan_normalized = (scan_cropped - mean) / std\n",
        "        scan_normalized[scan_cropped == 0] = np.min(scan_normalized)\n",
        "\n",
        "        # Resize/Pad to a standard shape\n",
        "        target_shape = (64, 64, 64) # Changed target shape to 64x64x64\n",
        "        resize_factors = [t / s for t, s in zip(target_shape, mask_cropped.shape)]\n",
        "        mask_resized = zoom(mask_cropped, resize_factors, order=0)\n",
        "        scan_resized = np.stack([zoom(scan_normalized[:,:,:,i], resize_factors, order=1) for i in range(4)], axis=-1)\n",
        "\n",
        "        # Save the processed arrays\n",
        "        np.save(os.path.join(save_path_scans, f'{patient_id}_scan.npy'), scan_resized)\n",
        "        np.save(os.path.join(save_path_masks, f'{patient_id}_mask.npy'), mask_resized)\n",
        "\n",
        "\n",
        "        return True\n",
        "    except Exception as e:\n",
        "        print(f\"Error processing {patient_id}: {e}\")\n",
        "        return False\n",
        "\n",
        "#Getting and Splitting the Patient ID\n",
        "data_path = 'brats2020_data/BraTS2020_TrainingData/MICCAI_BraTS2020_TrainingData'\n",
        "all_patient_ids = [d for d in os.listdir(data_path) if os.path.isdir(os.path.join(data_path, d))]\n",
        "\n",
        "train_val_ids, test_ids = train_test_split(all_patient_ids, test_size=0.15, random_state=42)\n",
        "train_ids, val_ids = train_test_split(train_val_ids, test_size=0.15, random_state=42)\n",
        "\n",
        "print(f\"Total patients: {len(all_patient_ids)}\")\n",
        "print(f\"Training patients: {len(train_ids)}\")\n",
        "print(f\"Validation patients: {len(val_ids)}\")\n",
        "print(f\"Test patients: {len(test_ids)}\")\n",
        "\n",
        "#Process and save subset of the data\n",
        "# Create directories to save the processed data\n",
        "os.makedirs('processed_data/train/scans', exist_ok=True)\n",
        "os.makedirs('processed_data/train/masks', exist_ok=True)\n",
        "os.makedirs('processed_data/val/scans', exist_ok=True)\n",
        "os.makedirs('processed_data/val/masks', exist_ok=True)\n",
        "os.makedirs('processed_data/test/scans', exist_ok=True)\n",
        "os.makedirs('processed_data/test/masks', exist_ok=True)\n",
        "\n",
        "# Process a small subset to test the pipeline\n",
        "print(\"\\n--- Processing a small subset of training data ---\")\n",
        "for patient_id in tqdm(train_ids[:5]): # Using tqdm for a progress bar\n",
        "    save_path_scans = 'processed_data/train/scans'\n",
        "    save_path_masks = 'processed_data/train/masks'\n",
        "    preprocess_and_save(patient_id, data_path, save_path_scans, save_path_masks)\n",
        "\n",
        "\n",
        "print(\"\\n--- Processing a small subset of validation data ---\")\n",
        "for patient_id in tqdm(val_ids[:2]):\n",
        "    save_path_scans = 'processed_data/val/scans'\n",
        "    save_path_masks = 'processed_data/val/masks'\n",
        "    preprocess_and_save(patient_id, data_path, save_path_scans, save_path_masks)\n",
        "\n",
        "print(\"\\n--- Processing a small subset of test data ---\")\n",
        "for patient_id in tqdm(test_ids[:2]): # Process a small subset of test data\n",
        "    save_path_scans = 'processed_data/test/scans'\n",
        "    save_path_masks = 'processed_data/test/masks'\n",
        "    preprocess_and_save(patient_id, data_path, save_path_scans, save_path_masks)\n",
        "\n",
        "\n",
        "print(\"\\nSubset processing complete!\")"
      ],
      "metadata": {
        "colab": {
          "base_uri": "https://localhost:8080/"
        },
        "id": "AWRZnjivpAzH",
        "outputId": "f98f7e92-a32c-4484-87f2-c5d837e3c8a7"
      },
      "execution_count": 31,
      "outputs": [
        {
          "output_type": "stream",
          "name": "stdout",
          "text": [
            "Total patients: 369\n",
            "Training patients: 266\n",
            "Validation patients: 47\n",
            "Test patients: 56\n",
            "\n",
            "--- Processing a small subset of training data ---\n"
          ]
        },
        {
          "output_type": "stream",
          "name": "stderr",
          "text": [
            "100%|██████████| 5/5 [00:06<00:00,  1.36s/it]\n"
          ]
        },
        {
          "output_type": "stream",
          "name": "stdout",
          "text": [
            "\n",
            "--- Processing a small subset of validation data ---\n"
          ]
        },
        {
          "output_type": "stream",
          "name": "stderr",
          "text": [
            "100%|██████████| 2/2 [00:02<00:00,  1.12s/it]\n"
          ]
        },
        {
          "output_type": "stream",
          "name": "stdout",
          "text": [
            "\n",
            "--- Processing a small subset of test data ---\n"
          ]
        },
        {
          "output_type": "stream",
          "name": "stderr",
          "text": [
            "100%|██████████| 2/2 [00:02<00:00,  1.23s/it]"
          ]
        },
        {
          "output_type": "stream",
          "name": "stdout",
          "text": [
            "\n",
            "Subset processing complete!\n"
          ]
        },
        {
          "output_type": "stream",
          "name": "stderr",
          "text": [
            "\n"
          ]
        }
      ]
    },
    {
      "cell_type": "markdown",
      "source": [
        "###Building the 3D U-net Model"
      ],
      "metadata": {
        "id": "YP0_qpOFsWzO"
      }
    },
    {
      "cell_type": "code",
      "source": [
        "import tensorflow as tf\n",
        "\n",
        "def build_3d_unet(input_shape):\n",
        "\n",
        "  inputs = tf.keras.layers.Input(shape=input_shape)\n",
        "\n",
        "  #First we define the encoder\n",
        "  #Going down 2 levels\n",
        "\n",
        "  #Level 1\n",
        "  c1 = tf.keras.layers.Conv3D(16, (3, 3, 3), activation = \"relu\", padding='same')(inputs)\n",
        "  c1 = tf.keras.layers.Conv3D(32, (3, 3, 3), activation = \"relu\", padding='same')(c1)\n",
        "  p1 = tf.keras.layers.MaxPooling3D((2,2,2))(c1)\n",
        "\n",
        "\n",
        "  #Level 2\n",
        "  c2 = tf.keras.layers.Conv3D(64, (3, 3, 3), activation = \"relu\", padding='same')(p1)\n",
        "  c2 = tf.keras.layers.Conv3D(128, (3, 3, 3), activation=\"relu\", padding='same')(c2)\n",
        "  p2 = tf.keras.layers.MaxPooling3D((2,2,2))(c2)\n",
        "\n",
        "\n",
        "  #At this point our encoder is done. We just have to code the bottleneck\n",
        "\n",
        "  #Bottleneck\n",
        "  c_middle = tf.keras.layers.Conv3D(256, (3, 3, 3), activation=\"relu\", padding= \"same\")(p2)\n",
        "  c_middle = tf.keras.layers.Conv3D(256, (3, 3, 3), activation=\"relu\", padding= \"same\")(c_middle)\n",
        "\n",
        "  #Now we will code the Decoder\n",
        "  #In similar fashion now we go 2 levels up\n",
        "\n",
        "  #Level 3\n",
        "  u3 = tf.keras.layers.Conv3DTranspose(128, (2, 2, 2), strides=(2, 2, 2), padding='same')(c_middle)\n",
        "  u3 = tf.keras.layers.Concatenate()([u3, c2]) #Skip the connection\n",
        "  c3 = tf.keras.layers.Conv3D(128, (3, 3, 3), activation=\"relu\", padding='same')(u3)\n",
        "  c3 = tf.keras.layers.Conv3D(64, (3, 3, 3), activation='relu', padding='same')(c3)\n",
        "\n",
        "  #Level 4\n",
        "  u4 = tf.keras.layers.Conv3DTranspose(32, (2, 2, 2), strides=(2, 2, 2), padding='same')(c3)\n",
        "  u4 = tf.keras.layers.Concatenate()([u4, c1]) #Skip the connection\n",
        "  c4 = tf.keras.layers.Conv3D(32, (3, 3, 3), activation=\"relu\", padding='same')(u4)\n",
        "  c4 = tf.keras.layers.Conv3D(16, (3, 3, 3), activation='relu', padding='same')(c4)\n",
        "\n",
        "  #Final Output\n",
        "  #This would be a final 1x1x1 convolution with a sigmoid activation for binary segmentation\n",
        "  outputs = tf.keras.layers.Conv3D(1, (1, 1, 1), activation='sigmoid')(c4)\n",
        "\n",
        "\n",
        "  #Now we create the model\n",
        "  model = tf.keras.Model(inputs=[inputs], outputs=[outputs])\n",
        "  return model\n",
        "\n",
        "\n",
        "#Instantiate and Inspecting the model\n",
        "#Our input shape is (128, 128, 128, 4)\n",
        "\n",
        "input_shape = (64, 64, 64, 4) # Corrected input shape\n",
        "model = build_3d_unet(input_shape)\n",
        "\n",
        "\n",
        "#Print the model summary\n",
        "model.summary()"
      ],
      "metadata": {
        "colab": {
          "base_uri": "https://localhost:8080/",
          "height": 1000
        },
        "id": "Ag-zjZhBrVZ8",
        "outputId": "5fe2f9b9-36c7-4a78-92d9-a2ba0e6f26e5"
      },
      "execution_count": 15,
      "outputs": [
        {
          "output_type": "display_data",
          "data": {
            "text/plain": [
              "\u001b[1mModel: \"functional_1\"\u001b[0m\n"
            ],
            "text/html": [
              "<pre style=\"white-space:pre;overflow-x:auto;line-height:normal;font-family:Menlo,'DejaVu Sans Mono',consolas,'Courier New',monospace\"><span style=\"font-weight: bold\">Model: \"functional_1\"</span>\n",
              "</pre>\n"
            ]
          },
          "metadata": {}
        },
        {
          "output_type": "display_data",
          "data": {
            "text/plain": [
              "┏━━━━━━━━━━━━━━━━━━━━━┳━━━━━━━━━━━━━━━━━━━┳━━━━━━━━━━━━┳━━━━━━━━━━━━━━━━━━━┓\n",
              "┃\u001b[1m \u001b[0m\u001b[1mLayer (type)       \u001b[0m\u001b[1m \u001b[0m┃\u001b[1m \u001b[0m\u001b[1mOutput Shape     \u001b[0m\u001b[1m \u001b[0m┃\u001b[1m \u001b[0m\u001b[1m   Param #\u001b[0m\u001b[1m \u001b[0m┃\u001b[1m \u001b[0m\u001b[1mConnected to     \u001b[0m\u001b[1m \u001b[0m┃\n",
              "┡━━━━━━━━━━━━━━━━━━━━━╇━━━━━━━━━━━━━━━━━━━╇━━━━━━━━━━━━╇━━━━━━━━━━━━━━━━━━━┩\n",
              "│ input_layer_1       │ (\u001b[38;5;45mNone\u001b[0m, \u001b[38;5;34m64\u001b[0m, \u001b[38;5;34m64\u001b[0m,    │          \u001b[38;5;34m0\u001b[0m │ -                 │\n",
              "│ (\u001b[38;5;33mInputLayer\u001b[0m)        │ \u001b[38;5;34m64\u001b[0m, \u001b[38;5;34m4\u001b[0m)            │            │                   │\n",
              "├─────────────────────┼───────────────────┼────────────┼───────────────────┤\n",
              "│ conv3d_11 (\u001b[38;5;33mConv3D\u001b[0m)  │ (\u001b[38;5;45mNone\u001b[0m, \u001b[38;5;34m64\u001b[0m, \u001b[38;5;34m64\u001b[0m,    │      \u001b[38;5;34m1,744\u001b[0m │ input_layer_1[\u001b[38;5;34m0\u001b[0m]… │\n",
              "│                     │ \u001b[38;5;34m64\u001b[0m, \u001b[38;5;34m16\u001b[0m)           │            │                   │\n",
              "├─────────────────────┼───────────────────┼────────────┼───────────────────┤\n",
              "│ conv3d_12 (\u001b[38;5;33mConv3D\u001b[0m)  │ (\u001b[38;5;45mNone\u001b[0m, \u001b[38;5;34m64\u001b[0m, \u001b[38;5;34m64\u001b[0m,    │     \u001b[38;5;34m13,856\u001b[0m │ conv3d_11[\u001b[38;5;34m0\u001b[0m][\u001b[38;5;34m0\u001b[0m]   │\n",
              "│                     │ \u001b[38;5;34m64\u001b[0m, \u001b[38;5;34m32\u001b[0m)           │            │                   │\n",
              "├─────────────────────┼───────────────────┼────────────┼───────────────────┤\n",
              "│ max_pooling3d_2     │ (\u001b[38;5;45mNone\u001b[0m, \u001b[38;5;34m32\u001b[0m, \u001b[38;5;34m32\u001b[0m,    │          \u001b[38;5;34m0\u001b[0m │ conv3d_12[\u001b[38;5;34m0\u001b[0m][\u001b[38;5;34m0\u001b[0m]   │\n",
              "│ (\u001b[38;5;33mMaxPooling3D\u001b[0m)      │ \u001b[38;5;34m32\u001b[0m, \u001b[38;5;34m32\u001b[0m)           │            │                   │\n",
              "├─────────────────────┼───────────────────┼────────────┼───────────────────┤\n",
              "│ conv3d_13 (\u001b[38;5;33mConv3D\u001b[0m)  │ (\u001b[38;5;45mNone\u001b[0m, \u001b[38;5;34m32\u001b[0m, \u001b[38;5;34m32\u001b[0m,    │     \u001b[38;5;34m55,360\u001b[0m │ max_pooling3d_2[\u001b[38;5;34m…\u001b[0m │\n",
              "│                     │ \u001b[38;5;34m32\u001b[0m, \u001b[38;5;34m64\u001b[0m)           │            │                   │\n",
              "├─────────────────────┼───────────────────┼────────────┼───────────────────┤\n",
              "│ conv3d_14 (\u001b[38;5;33mConv3D\u001b[0m)  │ (\u001b[38;5;45mNone\u001b[0m, \u001b[38;5;34m32\u001b[0m, \u001b[38;5;34m32\u001b[0m,    │    \u001b[38;5;34m221,312\u001b[0m │ conv3d_13[\u001b[38;5;34m0\u001b[0m][\u001b[38;5;34m0\u001b[0m]   │\n",
              "│                     │ \u001b[38;5;34m32\u001b[0m, \u001b[38;5;34m128\u001b[0m)          │            │                   │\n",
              "├─────────────────────┼───────────────────┼────────────┼───────────────────┤\n",
              "│ max_pooling3d_3     │ (\u001b[38;5;45mNone\u001b[0m, \u001b[38;5;34m16\u001b[0m, \u001b[38;5;34m16\u001b[0m,    │          \u001b[38;5;34m0\u001b[0m │ conv3d_14[\u001b[38;5;34m0\u001b[0m][\u001b[38;5;34m0\u001b[0m]   │\n",
              "│ (\u001b[38;5;33mMaxPooling3D\u001b[0m)      │ \u001b[38;5;34m16\u001b[0m, \u001b[38;5;34m128\u001b[0m)          │            │                   │\n",
              "├─────────────────────┼───────────────────┼────────────┼───────────────────┤\n",
              "│ conv3d_15 (\u001b[38;5;33mConv3D\u001b[0m)  │ (\u001b[38;5;45mNone\u001b[0m, \u001b[38;5;34m16\u001b[0m, \u001b[38;5;34m16\u001b[0m,    │    \u001b[38;5;34m884,992\u001b[0m │ max_pooling3d_3[\u001b[38;5;34m…\u001b[0m │\n",
              "│                     │ \u001b[38;5;34m16\u001b[0m, \u001b[38;5;34m256\u001b[0m)          │            │                   │\n",
              "├─────────────────────┼───────────────────┼────────────┼───────────────────┤\n",
              "│ conv3d_16 (\u001b[38;5;33mConv3D\u001b[0m)  │ (\u001b[38;5;45mNone\u001b[0m, \u001b[38;5;34m16\u001b[0m, \u001b[38;5;34m16\u001b[0m,    │  \u001b[38;5;34m1,769,728\u001b[0m │ conv3d_15[\u001b[38;5;34m0\u001b[0m][\u001b[38;5;34m0\u001b[0m]   │\n",
              "│                     │ \u001b[38;5;34m16\u001b[0m, \u001b[38;5;34m256\u001b[0m)          │            │                   │\n",
              "├─────────────────────┼───────────────────┼────────────┼───────────────────┤\n",
              "│ conv3d_transpose_2  │ (\u001b[38;5;45mNone\u001b[0m, \u001b[38;5;34m32\u001b[0m, \u001b[38;5;34m32\u001b[0m,    │    \u001b[38;5;34m262,272\u001b[0m │ conv3d_16[\u001b[38;5;34m0\u001b[0m][\u001b[38;5;34m0\u001b[0m]   │\n",
              "│ (\u001b[38;5;33mConv3DTranspose\u001b[0m)   │ \u001b[38;5;34m32\u001b[0m, \u001b[38;5;34m128\u001b[0m)          │            │                   │\n",
              "├─────────────────────┼───────────────────┼────────────┼───────────────────┤\n",
              "│ concatenate_2       │ (\u001b[38;5;45mNone\u001b[0m, \u001b[38;5;34m32\u001b[0m, \u001b[38;5;34m32\u001b[0m,    │          \u001b[38;5;34m0\u001b[0m │ conv3d_transpose… │\n",
              "│ (\u001b[38;5;33mConcatenate\u001b[0m)       │ \u001b[38;5;34m32\u001b[0m, \u001b[38;5;34m256\u001b[0m)          │            │ conv3d_14[\u001b[38;5;34m0\u001b[0m][\u001b[38;5;34m0\u001b[0m]   │\n",
              "├─────────────────────┼───────────────────┼────────────┼───────────────────┤\n",
              "│ conv3d_17 (\u001b[38;5;33mConv3D\u001b[0m)  │ (\u001b[38;5;45mNone\u001b[0m, \u001b[38;5;34m32\u001b[0m, \u001b[38;5;34m32\u001b[0m,    │    \u001b[38;5;34m884,864\u001b[0m │ concatenate_2[\u001b[38;5;34m0\u001b[0m]… │\n",
              "│                     │ \u001b[38;5;34m32\u001b[0m, \u001b[38;5;34m128\u001b[0m)          │            │                   │\n",
              "├─────────────────────┼───────────────────┼────────────┼───────────────────┤\n",
              "│ conv3d_18 (\u001b[38;5;33mConv3D\u001b[0m)  │ (\u001b[38;5;45mNone\u001b[0m, \u001b[38;5;34m32\u001b[0m, \u001b[38;5;34m32\u001b[0m,    │    \u001b[38;5;34m221,248\u001b[0m │ conv3d_17[\u001b[38;5;34m0\u001b[0m][\u001b[38;5;34m0\u001b[0m]   │\n",
              "│                     │ \u001b[38;5;34m32\u001b[0m, \u001b[38;5;34m64\u001b[0m)           │            │                   │\n",
              "├─────────────────────┼───────────────────┼────────────┼───────────────────┤\n",
              "│ conv3d_transpose_3  │ (\u001b[38;5;45mNone\u001b[0m, \u001b[38;5;34m64\u001b[0m, \u001b[38;5;34m64\u001b[0m,    │     \u001b[38;5;34m16,416\u001b[0m │ conv3d_18[\u001b[38;5;34m0\u001b[0m][\u001b[38;5;34m0\u001b[0m]   │\n",
              "│ (\u001b[38;5;33mConv3DTranspose\u001b[0m)   │ \u001b[38;5;34m64\u001b[0m, \u001b[38;5;34m32\u001b[0m)           │            │                   │\n",
              "├─────────────────────┼───────────────────┼────────────┼───────────────────┤\n",
              "│ concatenate_3       │ (\u001b[38;5;45mNone\u001b[0m, \u001b[38;5;34m64\u001b[0m, \u001b[38;5;34m64\u001b[0m,    │          \u001b[38;5;34m0\u001b[0m │ conv3d_transpose… │\n",
              "│ (\u001b[38;5;33mConcatenate\u001b[0m)       │ \u001b[38;5;34m64\u001b[0m, \u001b[38;5;34m64\u001b[0m)           │            │ conv3d_12[\u001b[38;5;34m0\u001b[0m][\u001b[38;5;34m0\u001b[0m]   │\n",
              "├─────────────────────┼───────────────────┼────────────┼───────────────────┤\n",
              "│ conv3d_19 (\u001b[38;5;33mConv3D\u001b[0m)  │ (\u001b[38;5;45mNone\u001b[0m, \u001b[38;5;34m64\u001b[0m, \u001b[38;5;34m64\u001b[0m,    │     \u001b[38;5;34m55,328\u001b[0m │ concatenate_3[\u001b[38;5;34m0\u001b[0m]… │\n",
              "│                     │ \u001b[38;5;34m64\u001b[0m, \u001b[38;5;34m32\u001b[0m)           │            │                   │\n",
              "├─────────────────────┼───────────────────┼────────────┼───────────────────┤\n",
              "│ conv3d_20 (\u001b[38;5;33mConv3D\u001b[0m)  │ (\u001b[38;5;45mNone\u001b[0m, \u001b[38;5;34m64\u001b[0m, \u001b[38;5;34m64\u001b[0m,    │     \u001b[38;5;34m13,840\u001b[0m │ conv3d_19[\u001b[38;5;34m0\u001b[0m][\u001b[38;5;34m0\u001b[0m]   │\n",
              "│                     │ \u001b[38;5;34m64\u001b[0m, \u001b[38;5;34m16\u001b[0m)           │            │                   │\n",
              "├─────────────────────┼───────────────────┼────────────┼───────────────────┤\n",
              "│ conv3d_21 (\u001b[38;5;33mConv3D\u001b[0m)  │ (\u001b[38;5;45mNone\u001b[0m, \u001b[38;5;34m64\u001b[0m, \u001b[38;5;34m64\u001b[0m,    │         \u001b[38;5;34m17\u001b[0m │ conv3d_20[\u001b[38;5;34m0\u001b[0m][\u001b[38;5;34m0\u001b[0m]   │\n",
              "│                     │ \u001b[38;5;34m64\u001b[0m, \u001b[38;5;34m1\u001b[0m)            │            │                   │\n",
              "└─────────────────────┴───────────────────┴────────────┴───────────────────┘\n"
            ],
            "text/html": [
              "<pre style=\"white-space:pre;overflow-x:auto;line-height:normal;font-family:Menlo,'DejaVu Sans Mono',consolas,'Courier New',monospace\">┏━━━━━━━━━━━━━━━━━━━━━┳━━━━━━━━━━━━━━━━━━━┳━━━━━━━━━━━━┳━━━━━━━━━━━━━━━━━━━┓\n",
              "┃<span style=\"font-weight: bold\"> Layer (type)        </span>┃<span style=\"font-weight: bold\"> Output Shape      </span>┃<span style=\"font-weight: bold\">    Param # </span>┃<span style=\"font-weight: bold\"> Connected to      </span>┃\n",
              "┡━━━━━━━━━━━━━━━━━━━━━╇━━━━━━━━━━━━━━━━━━━╇━━━━━━━━━━━━╇━━━━━━━━━━━━━━━━━━━┩\n",
              "│ input_layer_1       │ (<span style=\"color: #00d7ff; text-decoration-color: #00d7ff\">None</span>, <span style=\"color: #00af00; text-decoration-color: #00af00\">64</span>, <span style=\"color: #00af00; text-decoration-color: #00af00\">64</span>,    │          <span style=\"color: #00af00; text-decoration-color: #00af00\">0</span> │ -                 │\n",
              "│ (<span style=\"color: #0087ff; text-decoration-color: #0087ff\">InputLayer</span>)        │ <span style=\"color: #00af00; text-decoration-color: #00af00\">64</span>, <span style=\"color: #00af00; text-decoration-color: #00af00\">4</span>)            │            │                   │\n",
              "├─────────────────────┼───────────────────┼────────────┼───────────────────┤\n",
              "│ conv3d_11 (<span style=\"color: #0087ff; text-decoration-color: #0087ff\">Conv3D</span>)  │ (<span style=\"color: #00d7ff; text-decoration-color: #00d7ff\">None</span>, <span style=\"color: #00af00; text-decoration-color: #00af00\">64</span>, <span style=\"color: #00af00; text-decoration-color: #00af00\">64</span>,    │      <span style=\"color: #00af00; text-decoration-color: #00af00\">1,744</span> │ input_layer_1[<span style=\"color: #00af00; text-decoration-color: #00af00\">0</span>]… │\n",
              "│                     │ <span style=\"color: #00af00; text-decoration-color: #00af00\">64</span>, <span style=\"color: #00af00; text-decoration-color: #00af00\">16</span>)           │            │                   │\n",
              "├─────────────────────┼───────────────────┼────────────┼───────────────────┤\n",
              "│ conv3d_12 (<span style=\"color: #0087ff; text-decoration-color: #0087ff\">Conv3D</span>)  │ (<span style=\"color: #00d7ff; text-decoration-color: #00d7ff\">None</span>, <span style=\"color: #00af00; text-decoration-color: #00af00\">64</span>, <span style=\"color: #00af00; text-decoration-color: #00af00\">64</span>,    │     <span style=\"color: #00af00; text-decoration-color: #00af00\">13,856</span> │ conv3d_11[<span style=\"color: #00af00; text-decoration-color: #00af00\">0</span>][<span style=\"color: #00af00; text-decoration-color: #00af00\">0</span>]   │\n",
              "│                     │ <span style=\"color: #00af00; text-decoration-color: #00af00\">64</span>, <span style=\"color: #00af00; text-decoration-color: #00af00\">32</span>)           │            │                   │\n",
              "├─────────────────────┼───────────────────┼────────────┼───────────────────┤\n",
              "│ max_pooling3d_2     │ (<span style=\"color: #00d7ff; text-decoration-color: #00d7ff\">None</span>, <span style=\"color: #00af00; text-decoration-color: #00af00\">32</span>, <span style=\"color: #00af00; text-decoration-color: #00af00\">32</span>,    │          <span style=\"color: #00af00; text-decoration-color: #00af00\">0</span> │ conv3d_12[<span style=\"color: #00af00; text-decoration-color: #00af00\">0</span>][<span style=\"color: #00af00; text-decoration-color: #00af00\">0</span>]   │\n",
              "│ (<span style=\"color: #0087ff; text-decoration-color: #0087ff\">MaxPooling3D</span>)      │ <span style=\"color: #00af00; text-decoration-color: #00af00\">32</span>, <span style=\"color: #00af00; text-decoration-color: #00af00\">32</span>)           │            │                   │\n",
              "├─────────────────────┼───────────────────┼────────────┼───────────────────┤\n",
              "│ conv3d_13 (<span style=\"color: #0087ff; text-decoration-color: #0087ff\">Conv3D</span>)  │ (<span style=\"color: #00d7ff; text-decoration-color: #00d7ff\">None</span>, <span style=\"color: #00af00; text-decoration-color: #00af00\">32</span>, <span style=\"color: #00af00; text-decoration-color: #00af00\">32</span>,    │     <span style=\"color: #00af00; text-decoration-color: #00af00\">55,360</span> │ max_pooling3d_2[<span style=\"color: #00af00; text-decoration-color: #00af00\">…</span> │\n",
              "│                     │ <span style=\"color: #00af00; text-decoration-color: #00af00\">32</span>, <span style=\"color: #00af00; text-decoration-color: #00af00\">64</span>)           │            │                   │\n",
              "├─────────────────────┼───────────────────┼────────────┼───────────────────┤\n",
              "│ conv3d_14 (<span style=\"color: #0087ff; text-decoration-color: #0087ff\">Conv3D</span>)  │ (<span style=\"color: #00d7ff; text-decoration-color: #00d7ff\">None</span>, <span style=\"color: #00af00; text-decoration-color: #00af00\">32</span>, <span style=\"color: #00af00; text-decoration-color: #00af00\">32</span>,    │    <span style=\"color: #00af00; text-decoration-color: #00af00\">221,312</span> │ conv3d_13[<span style=\"color: #00af00; text-decoration-color: #00af00\">0</span>][<span style=\"color: #00af00; text-decoration-color: #00af00\">0</span>]   │\n",
              "│                     │ <span style=\"color: #00af00; text-decoration-color: #00af00\">32</span>, <span style=\"color: #00af00; text-decoration-color: #00af00\">128</span>)          │            │                   │\n",
              "├─────────────────────┼───────────────────┼────────────┼───────────────────┤\n",
              "│ max_pooling3d_3     │ (<span style=\"color: #00d7ff; text-decoration-color: #00d7ff\">None</span>, <span style=\"color: #00af00; text-decoration-color: #00af00\">16</span>, <span style=\"color: #00af00; text-decoration-color: #00af00\">16</span>,    │          <span style=\"color: #00af00; text-decoration-color: #00af00\">0</span> │ conv3d_14[<span style=\"color: #00af00; text-decoration-color: #00af00\">0</span>][<span style=\"color: #00af00; text-decoration-color: #00af00\">0</span>]   │\n",
              "│ (<span style=\"color: #0087ff; text-decoration-color: #0087ff\">MaxPooling3D</span>)      │ <span style=\"color: #00af00; text-decoration-color: #00af00\">16</span>, <span style=\"color: #00af00; text-decoration-color: #00af00\">128</span>)          │            │                   │\n",
              "├─────────────────────┼───────────────────┼────────────┼───────────────────┤\n",
              "│ conv3d_15 (<span style=\"color: #0087ff; text-decoration-color: #0087ff\">Conv3D</span>)  │ (<span style=\"color: #00d7ff; text-decoration-color: #00d7ff\">None</span>, <span style=\"color: #00af00; text-decoration-color: #00af00\">16</span>, <span style=\"color: #00af00; text-decoration-color: #00af00\">16</span>,    │    <span style=\"color: #00af00; text-decoration-color: #00af00\">884,992</span> │ max_pooling3d_3[<span style=\"color: #00af00; text-decoration-color: #00af00\">…</span> │\n",
              "│                     │ <span style=\"color: #00af00; text-decoration-color: #00af00\">16</span>, <span style=\"color: #00af00; text-decoration-color: #00af00\">256</span>)          │            │                   │\n",
              "├─────────────────────┼───────────────────┼────────────┼───────────────────┤\n",
              "│ conv3d_16 (<span style=\"color: #0087ff; text-decoration-color: #0087ff\">Conv3D</span>)  │ (<span style=\"color: #00d7ff; text-decoration-color: #00d7ff\">None</span>, <span style=\"color: #00af00; text-decoration-color: #00af00\">16</span>, <span style=\"color: #00af00; text-decoration-color: #00af00\">16</span>,    │  <span style=\"color: #00af00; text-decoration-color: #00af00\">1,769,728</span> │ conv3d_15[<span style=\"color: #00af00; text-decoration-color: #00af00\">0</span>][<span style=\"color: #00af00; text-decoration-color: #00af00\">0</span>]   │\n",
              "│                     │ <span style=\"color: #00af00; text-decoration-color: #00af00\">16</span>, <span style=\"color: #00af00; text-decoration-color: #00af00\">256</span>)          │            │                   │\n",
              "├─────────────────────┼───────────────────┼────────────┼───────────────────┤\n",
              "│ conv3d_transpose_2  │ (<span style=\"color: #00d7ff; text-decoration-color: #00d7ff\">None</span>, <span style=\"color: #00af00; text-decoration-color: #00af00\">32</span>, <span style=\"color: #00af00; text-decoration-color: #00af00\">32</span>,    │    <span style=\"color: #00af00; text-decoration-color: #00af00\">262,272</span> │ conv3d_16[<span style=\"color: #00af00; text-decoration-color: #00af00\">0</span>][<span style=\"color: #00af00; text-decoration-color: #00af00\">0</span>]   │\n",
              "│ (<span style=\"color: #0087ff; text-decoration-color: #0087ff\">Conv3DTranspose</span>)   │ <span style=\"color: #00af00; text-decoration-color: #00af00\">32</span>, <span style=\"color: #00af00; text-decoration-color: #00af00\">128</span>)          │            │                   │\n",
              "├─────────────────────┼───────────────────┼────────────┼───────────────────┤\n",
              "│ concatenate_2       │ (<span style=\"color: #00d7ff; text-decoration-color: #00d7ff\">None</span>, <span style=\"color: #00af00; text-decoration-color: #00af00\">32</span>, <span style=\"color: #00af00; text-decoration-color: #00af00\">32</span>,    │          <span style=\"color: #00af00; text-decoration-color: #00af00\">0</span> │ conv3d_transpose… │\n",
              "│ (<span style=\"color: #0087ff; text-decoration-color: #0087ff\">Concatenate</span>)       │ <span style=\"color: #00af00; text-decoration-color: #00af00\">32</span>, <span style=\"color: #00af00; text-decoration-color: #00af00\">256</span>)          │            │ conv3d_14[<span style=\"color: #00af00; text-decoration-color: #00af00\">0</span>][<span style=\"color: #00af00; text-decoration-color: #00af00\">0</span>]   │\n",
              "├─────────────────────┼───────────────────┼────────────┼───────────────────┤\n",
              "│ conv3d_17 (<span style=\"color: #0087ff; text-decoration-color: #0087ff\">Conv3D</span>)  │ (<span style=\"color: #00d7ff; text-decoration-color: #00d7ff\">None</span>, <span style=\"color: #00af00; text-decoration-color: #00af00\">32</span>, <span style=\"color: #00af00; text-decoration-color: #00af00\">32</span>,    │    <span style=\"color: #00af00; text-decoration-color: #00af00\">884,864</span> │ concatenate_2[<span style=\"color: #00af00; text-decoration-color: #00af00\">0</span>]… │\n",
              "│                     │ <span style=\"color: #00af00; text-decoration-color: #00af00\">32</span>, <span style=\"color: #00af00; text-decoration-color: #00af00\">128</span>)          │            │                   │\n",
              "├─────────────────────┼───────────────────┼────────────┼───────────────────┤\n",
              "│ conv3d_18 (<span style=\"color: #0087ff; text-decoration-color: #0087ff\">Conv3D</span>)  │ (<span style=\"color: #00d7ff; text-decoration-color: #00d7ff\">None</span>, <span style=\"color: #00af00; text-decoration-color: #00af00\">32</span>, <span style=\"color: #00af00; text-decoration-color: #00af00\">32</span>,    │    <span style=\"color: #00af00; text-decoration-color: #00af00\">221,248</span> │ conv3d_17[<span style=\"color: #00af00; text-decoration-color: #00af00\">0</span>][<span style=\"color: #00af00; text-decoration-color: #00af00\">0</span>]   │\n",
              "│                     │ <span style=\"color: #00af00; text-decoration-color: #00af00\">32</span>, <span style=\"color: #00af00; text-decoration-color: #00af00\">64</span>)           │            │                   │\n",
              "├─────────────────────┼───────────────────┼────────────┼───────────────────┤\n",
              "│ conv3d_transpose_3  │ (<span style=\"color: #00d7ff; text-decoration-color: #00d7ff\">None</span>, <span style=\"color: #00af00; text-decoration-color: #00af00\">64</span>, <span style=\"color: #00af00; text-decoration-color: #00af00\">64</span>,    │     <span style=\"color: #00af00; text-decoration-color: #00af00\">16,416</span> │ conv3d_18[<span style=\"color: #00af00; text-decoration-color: #00af00\">0</span>][<span style=\"color: #00af00; text-decoration-color: #00af00\">0</span>]   │\n",
              "│ (<span style=\"color: #0087ff; text-decoration-color: #0087ff\">Conv3DTranspose</span>)   │ <span style=\"color: #00af00; text-decoration-color: #00af00\">64</span>, <span style=\"color: #00af00; text-decoration-color: #00af00\">32</span>)           │            │                   │\n",
              "├─────────────────────┼───────────────────┼────────────┼───────────────────┤\n",
              "│ concatenate_3       │ (<span style=\"color: #00d7ff; text-decoration-color: #00d7ff\">None</span>, <span style=\"color: #00af00; text-decoration-color: #00af00\">64</span>, <span style=\"color: #00af00; text-decoration-color: #00af00\">64</span>,    │          <span style=\"color: #00af00; text-decoration-color: #00af00\">0</span> │ conv3d_transpose… │\n",
              "│ (<span style=\"color: #0087ff; text-decoration-color: #0087ff\">Concatenate</span>)       │ <span style=\"color: #00af00; text-decoration-color: #00af00\">64</span>, <span style=\"color: #00af00; text-decoration-color: #00af00\">64</span>)           │            │ conv3d_12[<span style=\"color: #00af00; text-decoration-color: #00af00\">0</span>][<span style=\"color: #00af00; text-decoration-color: #00af00\">0</span>]   │\n",
              "├─────────────────────┼───────────────────┼────────────┼───────────────────┤\n",
              "│ conv3d_19 (<span style=\"color: #0087ff; text-decoration-color: #0087ff\">Conv3D</span>)  │ (<span style=\"color: #00d7ff; text-decoration-color: #00d7ff\">None</span>, <span style=\"color: #00af00; text-decoration-color: #00af00\">64</span>, <span style=\"color: #00af00; text-decoration-color: #00af00\">64</span>,    │     <span style=\"color: #00af00; text-decoration-color: #00af00\">55,328</span> │ concatenate_3[<span style=\"color: #00af00; text-decoration-color: #00af00\">0</span>]… │\n",
              "│                     │ <span style=\"color: #00af00; text-decoration-color: #00af00\">64</span>, <span style=\"color: #00af00; text-decoration-color: #00af00\">32</span>)           │            │                   │\n",
              "├─────────────────────┼───────────────────┼────────────┼───────────────────┤\n",
              "│ conv3d_20 (<span style=\"color: #0087ff; text-decoration-color: #0087ff\">Conv3D</span>)  │ (<span style=\"color: #00d7ff; text-decoration-color: #00d7ff\">None</span>, <span style=\"color: #00af00; text-decoration-color: #00af00\">64</span>, <span style=\"color: #00af00; text-decoration-color: #00af00\">64</span>,    │     <span style=\"color: #00af00; text-decoration-color: #00af00\">13,840</span> │ conv3d_19[<span style=\"color: #00af00; text-decoration-color: #00af00\">0</span>][<span style=\"color: #00af00; text-decoration-color: #00af00\">0</span>]   │\n",
              "│                     │ <span style=\"color: #00af00; text-decoration-color: #00af00\">64</span>, <span style=\"color: #00af00; text-decoration-color: #00af00\">16</span>)           │            │                   │\n",
              "├─────────────────────┼───────────────────┼────────────┼───────────────────┤\n",
              "│ conv3d_21 (<span style=\"color: #0087ff; text-decoration-color: #0087ff\">Conv3D</span>)  │ (<span style=\"color: #00d7ff; text-decoration-color: #00d7ff\">None</span>, <span style=\"color: #00af00; text-decoration-color: #00af00\">64</span>, <span style=\"color: #00af00; text-decoration-color: #00af00\">64</span>,    │         <span style=\"color: #00af00; text-decoration-color: #00af00\">17</span> │ conv3d_20[<span style=\"color: #00af00; text-decoration-color: #00af00\">0</span>][<span style=\"color: #00af00; text-decoration-color: #00af00\">0</span>]   │\n",
              "│                     │ <span style=\"color: #00af00; text-decoration-color: #00af00\">64</span>, <span style=\"color: #00af00; text-decoration-color: #00af00\">1</span>)            │            │                   │\n",
              "└─────────────────────┴───────────────────┴────────────┴───────────────────┘\n",
              "</pre>\n"
            ]
          },
          "metadata": {}
        },
        {
          "output_type": "display_data",
          "data": {
            "text/plain": [
              "\u001b[1m Total params: \u001b[0m\u001b[38;5;34m4,400,977\u001b[0m (16.79 MB)\n"
            ],
            "text/html": [
              "<pre style=\"white-space:pre;overflow-x:auto;line-height:normal;font-family:Menlo,'DejaVu Sans Mono',consolas,'Courier New',monospace\"><span style=\"font-weight: bold\"> Total params: </span><span style=\"color: #00af00; text-decoration-color: #00af00\">4,400,977</span> (16.79 MB)\n",
              "</pre>\n"
            ]
          },
          "metadata": {}
        },
        {
          "output_type": "display_data",
          "data": {
            "text/plain": [
              "\u001b[1m Trainable params: \u001b[0m\u001b[38;5;34m4,400,977\u001b[0m (16.79 MB)\n"
            ],
            "text/html": [
              "<pre style=\"white-space:pre;overflow-x:auto;line-height:normal;font-family:Menlo,'DejaVu Sans Mono',consolas,'Courier New',monospace\"><span style=\"font-weight: bold\"> Trainable params: </span><span style=\"color: #00af00; text-decoration-color: #00af00\">4,400,977</span> (16.79 MB)\n",
              "</pre>\n"
            ]
          },
          "metadata": {}
        },
        {
          "output_type": "display_data",
          "data": {
            "text/plain": [
              "\u001b[1m Non-trainable params: \u001b[0m\u001b[38;5;34m0\u001b[0m (0.00 B)\n"
            ],
            "text/html": [
              "<pre style=\"white-space:pre;overflow-x:auto;line-height:normal;font-family:Menlo,'DejaVu Sans Mono',consolas,'Courier New',monospace\"><span style=\"font-weight: bold\"> Non-trainable params: </span><span style=\"color: #00af00; text-decoration-color: #00af00\">0</span> (0.00 B)\n",
              "</pre>\n"
            ]
          },
          "metadata": {}
        }
      ]
    },
    {
      "cell_type": "markdown",
      "source": [
        "###Creating The Data Generator\n",
        "We can't load all the processed 3D volumes into memory at once we would run out of RAM in Colab very quickly.\n",
        "\n",
        "The modern and most efficient way to handle this in TensorFlow is to use the tf.data.Dataset API. We will create a Python generator, which is a special function that loads one data sample at a time from our disk, yields it to the model, and then moves on to the next one. This method is highly memory-efficient."
      ],
      "metadata": {
        "id": "zCYZWvJxOjRW"
      }
    },
    {
      "cell_type": "code",
      "source": [
        "def data_generator(patient_ids, data_path, batch_size):\n",
        "\n",
        "  #Creates batches of preprocessed 3D scans and masks\n",
        "\n",
        "  #Getting the full paths to the scan and mask files\n",
        "  scan_paths = [os.path.join(data_path, 'scans', f'{pid}_scan.npy')for pid in patient_ids]\n",
        "  mask_paths = [os.path.join(data_path, 'masks', f'{pid}_mask.npy') for pid in patient_ids]\n",
        "\n",
        "\n",
        "  dataset_size = len(scan_paths)\n",
        "  indices = np.arange(dataset_size)\n",
        "\n",
        "  while True: #This will loop indefinitely for training\n",
        "    #Shuffle the data at the start of each epoch\n",
        "    np.random.shuffle(indices)\n",
        "\n",
        "    for i in range(0, dataset_size, batch_size):\n",
        "      batch_indices = indices[i:i+batch_size]\n",
        "\n",
        "      #Initialize empty lists for the batch\n",
        "      batch_scans = []\n",
        "      batch_masks = []\n",
        "\n",
        "      for idx in batch_indices:\n",
        "        #load the scan and maks for the current index\n",
        "        scan = np.load(scan_paths[idx])\n",
        "        mask = np.load(mask_paths[idx])\n",
        "\n",
        "\n",
        "        #The mask needs an extra channel dimension for the loss function\n",
        "        mask = np.expand_dims(mask, axis=-1)\n",
        "\n",
        "        batch_scans.append(scan)\n",
        "        batch_masks.append(mask)\n",
        "\n",
        "      #Yield the completed batch\n",
        "\n",
        "      yield np.array(batch_scans), np.array(batch_masks)\n",
        "\n",
        "#Create the tf.data.Dataset object\n",
        "BATCH_SIZE = 1 #Using a small batch size due to the large size of 3D volumes\n",
        "\n",
        "\n",
        "#Creating the training dataset using the processed subset\n",
        "train_gen  = data_generator(train_ids[:5], 'processed_data/train', BATCH_SIZE)\n",
        "train_dataset = tf.data.Dataset.from_generator(\n",
        "    lambda: train_gen,\n",
        "    output_signature=(\n",
        "        tf.TensorSpec(shape=(None, 64, 64, 64, 4), dtype=tf.float32), # Changed shape to 64\n",
        "        tf.TensorSpec(shape=(None, 64, 64, 64, 1), dtype=tf.uint8) # Changed shape to 64\n",
        "    )\n",
        "\n",
        ")\n",
        "\n",
        "\n",
        "#Create the validation dataset using the processed subset\n",
        "val_gen = data_generator(val_ids[:2], 'processed_data/val', BATCH_SIZE)\n",
        "val_dataset = tf.data.Dataset.from_generator(\n",
        "    lambda: val_gen,\n",
        "    output_signature=(\n",
        "        tf.TensorSpec(shape=(None, 64, 64, 64, 4), dtype=tf.float32), # Changed shape to 64\n",
        "        tf.TensorSpec(shape=(None, 64, 64, 64, 1), dtype=tf.uint8) # Changed shape to 64\n",
        "    )\n",
        ")\n",
        "\n",
        "\n",
        "#Verify the output of one batch\n",
        "print(\"Verifying one batch from the training dataset\")\n",
        "for scan_batch, mask_batch in train_dataset.take(1):\n",
        "    print(\"Scan batch shape:\", scan_batch.shape)\n",
        "    print(\"Mask batch shape:\", mask_batch.shape)"
      ],
      "metadata": {
        "colab": {
          "base_uri": "https://localhost:8080/"
        },
        "id": "gwrAEmt1OmnX",
        "outputId": "b0fbb0b7-a224-432f-f88d-6d40b1603011"
      },
      "execution_count": 16,
      "outputs": [
        {
          "output_type": "stream",
          "name": "stdout",
          "text": [
            "Verifying one batch from the training dataset\n",
            "Scan batch shape: (1, 64, 64, 64, 4)\n",
            "Mask batch shape: (1, 64, 64, 64, 1)\n"
          ]
        }
      ]
    },
    {
      "cell_type": "markdown",
      "source": [
        "###Model Compilation and Custom Loss\n",
        "For segmentation tasks, especially with imbalanced classes (the tumor is a very small part of the total 3D volume), the standard binary_crossentropy loss can sometimes struggle.\n",
        "\n",
        "A much more powerful approach is to use a loss function that directly maximizes the overlap between the predicted mask and the true mask. We will use a combination of Dice Loss and Binary Cross-Entropy, which is a state-of-the-art standard for medical segmentation. We will also monitor the Dice Coefficient as our main performance metric."
      ],
      "metadata": {
        "id": "2gu-u1tNW-TU"
      }
    },
    {
      "cell_type": "code",
      "source": [
        "import tensorflow.keras.backend as K\n",
        "\n",
        "#Defining Dice Coefficient Metrics\n",
        "\n",
        "#This will monitor to see how well the segmentation is performing, This is our main metric to keep an eye on\n",
        "\n",
        "def dice_coefficient(y_true, y_pred, smooth=1e-6):\n",
        "    # Ensure both inputs are float32 for calculation\n",
        "    y_true = tf.cast(y_true, tf.float32)\n",
        "    y_pred = tf.cast(y_pred, tf.float32)\n",
        "\n",
        "    y_true_f = K.flatten(y_true)\n",
        "    y_pred_f = K.flatten(y_pred)\n",
        "    intersection = K.sum(y_true_f * y_pred_f) # Corrected multiplication\n",
        "    return (2. * intersection + smooth) / (K.sum(y_true_f) + K.sum(y_pred_f) + smooth)\n",
        "\n",
        "\n",
        "#Now we will define the combined loss function\n",
        "#This loss function will combine dice coefficient with binary cross entropy and be used as the main metric\n",
        "def dice_loss_plus_bce(y_true, y_pred):\n",
        "\n",
        "  #Making sure y_true and y_pred are float32 for loss calculation\n",
        "  y_true = tf.cast(y_true, tf.float32)\n",
        "  y_pred = tf.cast(y_pred, tf.float32)\n",
        "\n",
        "  bce = tf.keras.losses.binary_crossentropy(y_true, y_pred)\n",
        "  dice_loss = 1 - dice_coefficient(y_true, y_pred)\n",
        "\n",
        "  return bce + dice_loss\n",
        "\n",
        "\n",
        "#Now we will compile our model wih Adam optimizer and new loss function\n",
        "\n",
        "model.compile(\n",
        "    optimizer=tf.keras.optimizers.Adam(learning_rate=1e-4),\n",
        "    loss=dice_loss_plus_bce,\n",
        "    metrics=[dice_coefficient]\n",
        ")\n",
        "\n",
        "print(\"Model compiled successfully!\")"
      ],
      "metadata": {
        "colab": {
          "base_uri": "https://localhost:8080/"
        },
        "id": "Bq3OBQfxW3RG",
        "outputId": "e982f343-f6c1-43d4-faa1-ba1424325fe5"
      },
      "execution_count": 17,
      "outputs": [
        {
          "output_type": "stream",
          "name": "stdout",
          "text": [
            "Model compiled successfully!\n"
          ]
        }
      ]
    },
    {
      "cell_type": "code",
      "source": [
        "# --- Define Callbacks ---\n",
        "# This saves the best version of the model based on the validation dice coefficient\n",
        "checkpoint = tf.keras.callbacks.ModelCheckpoint(\n",
        "    'best_3d_unet_model.keras',\n",
        "    monitor='val_dice_coefficient',\n",
        "    save_best_only=True,\n",
        "    mode='max',\n",
        "    verbose=1\n",
        ")\n",
        "\n",
        "# This stops training if the validation dice coefficient doesn't improve for 10 epochs\n",
        "early_stopping = tf.keras.callbacks.EarlyStopping(\n",
        "    monitor='val_dice_coefficient',\n",
        "    patience=10,\n",
        "    mode='max',\n",
        "    restore_best_weights=True,\n",
        "    verbose=1\n",
        ")\n",
        "\n",
        "# --- Calculate Steps for Generator ---\n",
        "# We need to tell Keras how many batches to run for each epoch.\n",
        "steps_per_epoch = len(train_ids) // BATCH_SIZE\n",
        "validation_steps = len(val_ids) // BATCH_SIZE\n",
        "\n",
        "# --- Train the Model ---\n",
        "history = model.fit(\n",
        "    train_dataset,\n",
        "    validation_data=val_dataset,\n",
        "    epochs=2,\n",
        "    steps_per_epoch=steps_per_epoch,\n",
        "    validation_steps=validation_steps,\n",
        "    callbacks=[checkpoint, early_stopping]\n",
        ")\n",
        "\n",
        "print(\"\\nTraining complete!\")"
      ],
      "metadata": {
        "colab": {
          "base_uri": "https://localhost:8080/"
        },
        "id": "GC6ivER9Yxgh",
        "outputId": "c3772286-fc46-4186-c388-09c49b2c46e4"
      },
      "execution_count": 20,
      "outputs": [
        {
          "output_type": "stream",
          "name": "stdout",
          "text": [
            "Epoch 1/2\n",
            "\u001b[1m266/266\u001b[0m \u001b[32m━━━━━━━━━━━━━━━━━━━━\u001b[0m\u001b[37m\u001b[0m \u001b[1m0s\u001b[0m 16s/step - dice_coefficient: 0.5945 - loss: 0.4774 \n",
            "Epoch 1: val_dice_coefficient improved from -inf to 0.70803, saving model to best_3d_unet_model.keras\n",
            "\u001b[1m266/266\u001b[0m \u001b[32m━━━━━━━━━━━━━━━━━━━━\u001b[0m\u001b[37m\u001b[0m \u001b[1m4498s\u001b[0m 17s/step - dice_coefficient: 0.5952 - loss: 0.4767 - val_dice_coefficient: 0.7080 - val_loss: 0.4194\n",
            "Epoch 2/2\n",
            "\u001b[1m266/266\u001b[0m \u001b[32m━━━━━━━━━━━━━━━━━━━━\u001b[0m\u001b[37m\u001b[0m \u001b[1m0s\u001b[0m 16s/step - dice_coefficient: 0.8863 - loss: 0.1366 \n",
            "Epoch 2: val_dice_coefficient did not improve from 0.70803\n",
            "\u001b[1m266/266\u001b[0m \u001b[32m━━━━━━━━━━━━━━━━━━━━\u001b[0m\u001b[37m\u001b[0m \u001b[1m4523s\u001b[0m 17s/step - dice_coefficient: 0.8864 - loss: 0.1366 - val_dice_coefficient: 0.6638 - val_loss: 0.5424\n",
            "Restoring model weights from the end of the best epoch: 1.\n",
            "\n",
            "Training complete!\n"
          ]
        }
      ]
    },
    {
      "cell_type": "markdown",
      "source": [
        "#Update\n",
        "At this point I just have a model that is trained on 2 epochs as the time it was requiring to train the model was a very long time and I will come back to it and train it on 50 epochs when I upgrade my colab plan"
      ],
      "metadata": {
        "id": "NNWYfhGUs4w6"
      }
    },
    {
      "cell_type": "markdown",
      "metadata": {
        "id": "5b77bcc2"
      },
      "source": [
        "# Task\n",
        "Explain the error in the selected code. If possible, fix the error and incorporate the changes into the existing code. Otherwise, try to diagnose the error."
      ]
    },
    {
      "cell_type": "markdown",
      "metadata": {
        "id": "f69f8a14"
      },
      "source": [
        "## Refactor test data loading\n",
        "\n",
        "### Subtask:\n",
        "Create a new function that takes a patient ID and loads/preprocesses a single test sample (scan and mask) without batching.\n"
      ]
    },
    {
      "cell_type": "markdown",
      "metadata": {
        "id": "abd014b9"
      },
      "source": [
        "**Reasoning**:\n",
        "The goal is to create a function to load and preprocess a single test sample. This involves defining a new function, constructing file paths, loading the data, expanding the mask dimensions, and returning the scan and mask.\n",
        "\n"
      ]
    },
    {
      "cell_type": "code",
      "metadata": {
        "colab": {
          "base_uri": "https://localhost:8080/"
        },
        "id": "62fd6423",
        "outputId": "567dc3ca-acd6-4c91-9d71-0c99bd3c2fde"
      },
      "source": [
        "def load_and_preprocess_test_sample(patient_id, data_path_scans, data_path_masks):\n",
        "    \"\"\"Loads and preprocesses a single test sample (scan and mask).\n",
        "\n",
        "    Args:\n",
        "        patient_id: The ID of the patient.\n",
        "        data_path_scans: The base path to the processed scan files.\n",
        "        data_path_masks: The base path to the processed mask files.\n",
        "\n",
        "    Returns:\n",
        "        A tuple containing the loaded scan (NumPy array) and the loaded and\n",
        "        dimension-expanded mask (NumPy array).\n",
        "    \"\"\"\n",
        "    scan_path = os.path.join(data_path_scans, f'{patient_id}_scan.npy')\n",
        "    mask_path = os.path.join(data_path_masks, f'{patient_id}_mask.npy')\n",
        "\n",
        "    scan = np.load(scan_path)\n",
        "    mask = np.load(mask_path)\n",
        "\n",
        "    # Expand mask dimensions to include a channel dimension\n",
        "    mask = np.expand_dims(mask, axis=-1)\n",
        "\n",
        "    return scan, mask\n",
        "\n",
        "print(\"load_and_preprocess_test_sample function defined.\")"
      ],
      "execution_count": 36,
      "outputs": [
        {
          "output_type": "stream",
          "name": "stdout",
          "text": [
            "load_and_preprocess_test_sample function defined.\n"
          ]
        }
      ]
    },
    {
      "cell_type": "markdown",
      "metadata": {
        "id": "102964ca"
      },
      "source": [
        "## Create test dataset from paths\n",
        "\n",
        "### Subtask:\n",
        "Create the `test_dataset` directly from the list of preprocessed test file paths using `tf.data.Dataset.from_tensor_slices()`.\n"
      ]
    },
    {
      "cell_type": "markdown",
      "metadata": {
        "id": "2431217a"
      },
      "source": [
        "**Reasoning**:\n",
        "Define the paths for the processed test data and create lists of file paths for the test scans and masks using the subset of test_ids.\n",
        "\n"
      ]
    },
    {
      "cell_type": "code",
      "metadata": {
        "colab": {
          "base_uri": "https://localhost:8080/"
        },
        "id": "66c1070b",
        "outputId": "c2edf4ee-c3ab-401c-c470-73fefba61a82"
      },
      "source": [
        "# Define base paths for processed test data\n",
        "processed_test_scans_path = 'processed_data/test/scans'\n",
        "processed_test_masks_path = 'processed_data/test/masks'\n",
        "\n",
        "# Create lists of full file paths for the test scans and masks\n",
        "test_scan_paths = [os.path.join(processed_test_scans_path, f'{pid}_scan.npy') for pid in test_ids[:2]]\n",
        "test_mask_paths = [os.path.join(processed_test_masks_path, f'{pid}_mask.npy') for pid in test_ids[:2]]\n",
        "\n",
        "print(\"Test scan paths created:\", test_scan_paths[:2])\n",
        "print(\"Test mask paths created:\", test_mask_paths[:2])"
      ],
      "execution_count": 37,
      "outputs": [
        {
          "output_type": "stream",
          "name": "stdout",
          "text": [
            "Test scan paths created: ['processed_data/test/scans/BraTS20_Training_280_scan.npy', 'processed_data/test/scans/BraTS20_Training_201_scan.npy']\n",
            "Test mask paths created: ['processed_data/test/masks/BraTS20_Training_280_mask.npy', 'processed_data/test/masks/BraTS20_Training_201_mask.npy']\n"
          ]
        }
      ]
    },
    {
      "cell_type": "markdown",
      "metadata": {
        "id": "fcf5efbe"
      },
      "source": [
        "**Reasoning**:\n",
        "Create a tf.data.Dataset from the lists of scan and mask paths.\n",
        "\n"
      ]
    },
    {
      "cell_type": "code",
      "metadata": {
        "colab": {
          "base_uri": "https://localhost:8080/"
        },
        "id": "b23f3769",
        "outputId": "6862e9c2-a156-44f5-a42b-409b50b1a785"
      },
      "source": [
        "# Create a tf.data.Dataset from the paths\n",
        "test_dataset_paths = tf.data.Dataset.from_tensor_slices((test_scan_paths, test_mask_paths))\n",
        "\n",
        "print(\"Test dataset created from paths.\")"
      ],
      "execution_count": 38,
      "outputs": [
        {
          "output_type": "stream",
          "name": "stdout",
          "text": [
            "Test dataset created from paths.\n"
          ]
        }
      ]
    },
    {
      "cell_type": "markdown",
      "metadata": {
        "id": "28af65cc"
      },
      "source": [
        "## Map preprocessing function\n",
        "\n",
        "### Subtask:\n",
        "Use `test_dataset.map()` to apply the new single-sample loading and preprocessing function to each element in the dataset.\n"
      ]
    },
    {
      "cell_type": "markdown",
      "metadata": {
        "id": "715d9e85"
      },
      "source": [
        "**Reasoning**:\n",
        "Define the function to load and preprocess a single sample from the provided paths and apply it to the dataset of paths.\n",
        "\n"
      ]
    },
    {
      "cell_type": "code",
      "metadata": {
        "colab": {
          "base_uri": "https://localhost:8080/"
        },
        "id": "5022ac9b",
        "outputId": "197b4ead-e22a-4657-8aec-ea3d7a3eb385"
      },
      "source": [
        "def load_and_preprocess_paths(scan_path, mask_path):\n",
        "    \"\"\"Loads and preprocesses a single sample from file paths.\"\"\"\n",
        "    # Load the numpy arrays\n",
        "    scan = np.load(scan_path.numpy())\n",
        "    mask = np.load(mask_path.numpy())\n",
        "\n",
        "    # Expand mask dimensions\n",
        "    mask = np.expand_dims(mask, axis=-1)\n",
        "\n",
        "    # Cast mask to float32\n",
        "    mask = tf.cast(mask, tf.float32)\n",
        "    scan = tf.cast(scan, tf.float32)\n",
        "\n",
        "    return scan, mask\n",
        "\n",
        "# Apply the loading and preprocessing function to the dataset of paths\n",
        "test_dataset_processed = test_dataset_paths.map(lambda x, y: tf.py_function(\n",
        "    func=load_and_preprocess_paths,\n",
        "    inp=[x, y],\n",
        "    Tout=[tf.float32, tf.float32]\n",
        "))\n",
        "\n",
        "print(\"Applied load_and_preprocess_paths function to test_dataset_paths.\")"
      ],
      "execution_count": 39,
      "outputs": [
        {
          "output_type": "stream",
          "name": "stdout",
          "text": [
            "Applied load_and_preprocess_paths function to test_dataset_paths.\n"
          ]
        }
      ]
    },
    {
      "cell_type": "markdown",
      "metadata": {
        "id": "da61c420"
      },
      "source": [
        "**Reasoning**:\n",
        "Batch the processed test dataset and add prefetching for performance.\n",
        "\n"
      ]
    },
    {
      "cell_type": "code",
      "metadata": {
        "colab": {
          "base_uri": "https://localhost:8080/"
        },
        "id": "afd879e0",
        "outputId": "8e1f6abe-3860-444b-bc78-20a3edf039d5"
      },
      "source": [
        "# Batch the processed dataset and add prefetching\n",
        "test_dataset = test_dataset_processed.batch(BATCH_SIZE).prefetch(tf.data.AUTOTUNE)\n",
        "\n",
        "print(f\"Test dataset batched with size {BATCH_SIZE} and prefetched.\")\n",
        "\n",
        "# Verify the output of one batch\n",
        "print(\"\\nVerifying one batch from the test dataset\")\n",
        "for scan_batch, mask_batch in test_dataset.take(1):\n",
        "    print(\"Scan batch shape:\", scan_batch.shape)\n",
        "    print(\"Mask batch shape:\", mask_batch.shape)\n"
      ],
      "execution_count": 40,
      "outputs": [
        {
          "output_type": "stream",
          "name": "stdout",
          "text": [
            "Test dataset batched with size 1 and prefetched.\n",
            "\n",
            "Verifying one batch from the test dataset\n",
            "Scan batch shape: (1, 64, 64, 64, 4)\n",
            "Mask batch shape: (1, 64, 64, 64, 1)\n"
          ]
        }
      ]
    },
    {
      "cell_type": "markdown",
      "metadata": {
        "id": "a7787e0f"
      },
      "source": [
        "## Update evaluation and visualization\n",
        "\n",
        "### Subtask:\n",
        "Ensure the evaluation and visualization code in cell `f26U9HBuq49_` correctly uses the newly created `test_dataset`.\n"
      ]
    },
    {
      "cell_type": "markdown",
      "metadata": {
        "id": "2f8aa53f"
      },
      "source": [
        "**Reasoning**:\n",
        "The test dataset has been correctly created and batched in the previous steps. The error in the original cell `f26U9HBuq49_` was due to recreating the dataset incorrectly within that cell, leading to the iterator being exhausted. The code now needs to be fixed to use the `test_dataset` that was properly prepared in the previous subtask. The lines recreating the dataset need to be removed, and the subsequent evaluation and visualization code needs to be adjusted to use the existing `test_dataset`.\n",
        "\n"
      ]
    },
    {
      "cell_type": "code",
      "metadata": {
        "colab": {
          "base_uri": "https://localhost:8080/",
          "height": 1000
        },
        "id": "ehY9tMnqsN7H",
        "outputId": "3d9f4513-8bd8-42f1-a345-fae0a17f91f6"
      },
      "source": [
        "import tensorflow as tf\n",
        "import tensorflow.keras.backend as K\n",
        "import numpy as np\n",
        "import os\n",
        "import matplotlib.pyplot as plt\n",
        "import nibabel as nib\n",
        "\n",
        "# ===================================================================\n",
        "# 1. REQUIRED FUNCTIONS (from previous steps)\n",
        "# ===================================================================\n",
        "\n",
        "# --- Custom Metric ---\n",
        "def dice_coefficient(y_true, y_pred, smooth=1e-6):\n",
        "    # Ensure data types are float32\n",
        "    y_true = tf.cast(y_true, tf.float32)\n",
        "    y_pred = tf.cast(y_pred, tf.float32)\n",
        "    y_true_f = K.flatten(y_true)\n",
        "    y_pred_f = K.flatten(y_pred)\n",
        "    intersection = K.sum(y_true_f * y_pred_f)\n",
        "    return (2. * intersection + smooth) / (K.sum(y_true_f) + K.sum(y_pred_f) + smooth)\n",
        "\n",
        "# --- Custom Loss Function ---\n",
        "def dice_loss_plus_bce(y_true, y_pred):\n",
        "    y_true = tf.cast(y_true, tf.float32)\n",
        "    y_pred = tf.cast(y_pred, tf.float32)\n",
        "    bce = tf.keras.losses.binary_crossentropy(y_true, y_pred)\n",
        "    dice_loss = 1 - dice_coefficient(y_true, y_pred)\n",
        "    return bce + dice_loss\n",
        "\n",
        "\n",
        "# --- Data Loading and Preprocessing Function for .map() ---\n",
        "def load_and_preprocess_paths(scan_path, mask_path):\n",
        "    \"\"\"Loads and preprocesses a single sample from file paths.\"\"\"\n",
        "    # Load the numpy arrays\n",
        "    scan = np.load(scan_path.numpy())\n",
        "    mask = np.load(mask_path.numpy())\n",
        "\n",
        "    # Expand mask dimensions\n",
        "    mask = np.expand_dims(mask, axis=-1)\n",
        "\n",
        "    # Cast to float32 (no need for set_shape here if output_signature is used)\n",
        "    scan = tf.cast(scan, tf.float32)\n",
        "    mask = tf.cast(mask, tf.float32)\n",
        "\n",
        "    return scan, mask\n",
        "\n",
        "# --- Type Casting Function for Dataset Pipeline ---\n",
        "# This function is no longer strictly necessary if load_and_preprocess_paths\n",
        "# casts the mask to float32, but keeping it for robustness.\n",
        "def cast_mask_to_float(scan, mask):\n",
        "    mask = tf.cast(mask, tf.float32)\n",
        "    return scan, mask\n",
        "\n",
        "\n",
        "# ===================================================================\n",
        "# 2. SETUP AND CREATE THE TEST DATASET (Using correctly prepared paths)\n",
        "# ===================================================================\n",
        "# NOTE: test_ids, BATCH_SIZE, and test_dataset_paths are assumed to be defined from previous cells.\n",
        "\n",
        "print(\"--- Creating Test Dataset ---\")\n",
        "\n",
        "# Define the output signature for the dataset after loading and preprocessing\n",
        "output_signature = (\n",
        "    tf.TensorSpec(shape=(64, 64, 64, 4), dtype=tf.float32),\n",
        "    tf.TensorSpec(shape=(64, 64, 64, 1), dtype=tf.float32) # Mask should be float32\n",
        ")\n",
        "\n",
        "# Apply the loading and preprocessing function to the dataset of paths\n",
        "# Specify the output_signature for tf.py_function\n",
        "test_dataset_processed = test_dataset_paths.map(\n",
        "    lambda x, y: tf.py_function(\n",
        "        func=load_and_preprocess_paths,\n",
        "        inp=[x, y],\n",
        "        Tout=[tf.float32, tf.float32] # Output dtypes from py_function\n",
        "    ),\n",
        "    num_parallel_calls=tf.data.AUTOTUNE # Use parallel calls for efficiency\n",
        ")\n",
        "\n",
        "# Now apply the output signature to the dataset *after* the py_function map\n",
        "test_dataset_processed = test_dataset_processed.map(lambda x, y: (tf.ensure_shape(x, output_signature[0].shape),\n",
        "                                                                 tf.ensure_shape(y, output_signature[1].shape)))\n",
        "\n",
        "\n",
        "# Batch the processed dataset and add prefetching\n",
        "test_dataset = test_dataset_processed.batch(BATCH_SIZE).prefetch(tf.data.AUTOTUNE)\n",
        "\n",
        "\n",
        "# ===================================================================\n",
        "# 3. LOAD, EVALUATE, AND VISUALIZE\n",
        "# ===================================================================\n",
        "print(\"\\n--- Loading Best Model ---\")\n",
        "# We must pass our custom functions to 'custom_objects' so Keras knows what they are.\n",
        "best_model = tf.keras.models.load_model(\n",
        "    'best_3d_unet_model.keras',\n",
        "    custom_objects={'dice_loss_plus_bce': dice_loss_plus_bce, 'dice_coefficient': dice_coefficient}\n",
        ")\n",
        "\n",
        "print(\"\\n--- Evaluating on Test Data ---\")\n",
        "# Calculate the number of steps needed to cover the entire test set\n",
        "# Use the length of the subset of test_ids used for processing (which is 2)\n",
        "test_steps = len(test_ids[:2]) // BATCH_SIZE\n",
        "\n",
        "# Evaluate the model, making sure to include the 'steps' argument\n",
        "results = best_model.evaluate(test_dataset, steps=test_steps)\n",
        "\n",
        "print(\"\\n--- Final Test Set Performance ---\")\n",
        "print(f\"Test Loss: {results[0]:.4f}\")\n",
        "print(f\"Test Dice Coefficient: {results[1]:.4f}\")\n",
        "\n",
        "# --- Visualize a Prediction ---\n",
        "print(\"\\n--- Visualizing a sample prediction ---\")\n",
        "# Create a new iterator for the test dataset before getting a batch\n",
        "test_dataset_iterator = iter(test_dataset)\n",
        "test_scan_batch, test_mask_batch = next(test_dataset_iterator)\n",
        "\n",
        "# Make a prediction\n",
        "# The model expects a batch, so we pass the batch even if BATCH_SIZE is 1\n",
        "predicted_mask_batch = best_model.predict(test_scan_batch)\n",
        "\n",
        "# Select the first volume from the batch and remove extra dimensions\n",
        "# Assuming BATCH_SIZE is 1 for simplicity in visualization\n",
        "input_scan = test_scan_batch[0, ..., 0]      # Visualizing the FLAIR channel\n",
        "true_mask = test_mask_batch[0, ..., 0]\n",
        "predicted_mask = predicted_mask_batch[0, ..., 0]\n",
        "\n",
        "# Choose a slice from the middle to display\n",
        "# Use the shape of the retrieved batch element\n",
        "slice_index = input_scan.shape[2] // 2\n",
        "\n",
        "# Plot the results\n",
        "plt.figure(figsize=(15, 5))\n",
        "\n",
        "plt.subplot(1, 3, 1)\n",
        "plt.imshow(input_scan[:, :, slice_index].T, cmap='gray', origin='lower')\n",
        "plt.title(f'Input Scan (Slice {slice_index})')\n",
        "plt.axis('off')\n",
        "\n",
        "plt.subplot(1, 3, 2)\n",
        "plt.imshow(true_mask[:, :, slice_index].T, cmap='gray', origin='lower')\n",
        "plt.title('True Mask')\n",
        "plt.axis('off')\n",
        "\n",
        "plt.subplot(1, 3, 3)\n",
        "# We use a threshold of 0.5 to get a binary mask from the sigmoid output\n",
        "plt.imshow(predicted_mask[:, :, slice_index] > 0.5, cmap='gray', origin='lower')\n",
        "plt.title('Predicted Mask')\n",
        "plt.axis('off')\n",
        "\n",
        "plt.show()"
      ],
      "execution_count": 43,
      "outputs": [
        {
          "output_type": "stream",
          "name": "stdout",
          "text": [
            "--- Creating Test Dataset ---\n",
            "\n",
            "--- Loading Best Model ---\n",
            "\n",
            "--- Evaluating on Test Data ---\n",
            "\u001b[1m2/2\u001b[0m \u001b[32m━━━━━━━━━━━━━━━━━━━━\u001b[0m\u001b[37m\u001b[0m \u001b[1m8s\u001b[0m 3s/step - dice_coefficient: 0.4508 - loss: 0.6424\n",
            "\n",
            "--- Final Test Set Performance ---\n",
            "Test Loss: 0.5222\n",
            "Test Dice Coefficient: 0.5595\n",
            "\n",
            "--- Visualizing a sample prediction ---\n",
            "\u001b[1m1/1\u001b[0m \u001b[32m━━━━━━━━━━━━━━━━━━━━\u001b[0m\u001b[37m\u001b[0m \u001b[1m3s\u001b[0m 3s/step\n"
          ]
        },
        {
          "output_type": "error",
          "ename": "AttributeError",
          "evalue": "EagerTensor object has no attribute 'T'. \n        If you are looking for numpy-related methods, please run the following:\n        tf.experimental.numpy.experimental_enable_numpy_behavior()\n      ",
          "traceback": [
            "\u001b[0;31m---------------------------------------------------------------------------\u001b[0m",
            "\u001b[0;31mAttributeError\u001b[0m                            Traceback (most recent call last)",
            "\u001b[0;32m/tmp/ipython-input-1916406706.py\u001b[0m in \u001b[0;36m<cell line: 0>\u001b[0;34m()\u001b[0m\n\u001b[1;32m    132\u001b[0m \u001b[0;34m\u001b[0m\u001b[0m\n\u001b[1;32m    133\u001b[0m \u001b[0mplt\u001b[0m\u001b[0;34m.\u001b[0m\u001b[0msubplot\u001b[0m\u001b[0;34m(\u001b[0m\u001b[0;36m1\u001b[0m\u001b[0;34m,\u001b[0m \u001b[0;36m3\u001b[0m\u001b[0;34m,\u001b[0m \u001b[0;36m1\u001b[0m\u001b[0;34m)\u001b[0m\u001b[0;34m\u001b[0m\u001b[0;34m\u001b[0m\u001b[0m\n\u001b[0;32m--> 134\u001b[0;31m \u001b[0mplt\u001b[0m\u001b[0;34m.\u001b[0m\u001b[0mimshow\u001b[0m\u001b[0;34m(\u001b[0m\u001b[0minput_scan\u001b[0m\u001b[0;34m[\u001b[0m\u001b[0;34m:\u001b[0m\u001b[0;34m,\u001b[0m \u001b[0;34m:\u001b[0m\u001b[0;34m,\u001b[0m \u001b[0mslice_index\u001b[0m\u001b[0;34m]\u001b[0m\u001b[0;34m.\u001b[0m\u001b[0mT\u001b[0m\u001b[0;34m,\u001b[0m \u001b[0mcmap\u001b[0m\u001b[0;34m=\u001b[0m\u001b[0;34m'gray'\u001b[0m\u001b[0;34m,\u001b[0m \u001b[0morigin\u001b[0m\u001b[0;34m=\u001b[0m\u001b[0;34m'lower'\u001b[0m\u001b[0;34m)\u001b[0m\u001b[0;34m\u001b[0m\u001b[0;34m\u001b[0m\u001b[0m\n\u001b[0m\u001b[1;32m    135\u001b[0m \u001b[0mplt\u001b[0m\u001b[0;34m.\u001b[0m\u001b[0mtitle\u001b[0m\u001b[0;34m(\u001b[0m\u001b[0;34mf'Input Scan (Slice {slice_index})'\u001b[0m\u001b[0;34m)\u001b[0m\u001b[0;34m\u001b[0m\u001b[0;34m\u001b[0m\u001b[0m\n\u001b[1;32m    136\u001b[0m \u001b[0mplt\u001b[0m\u001b[0;34m.\u001b[0m\u001b[0maxis\u001b[0m\u001b[0;34m(\u001b[0m\u001b[0;34m'off'\u001b[0m\u001b[0;34m)\u001b[0m\u001b[0;34m\u001b[0m\u001b[0;34m\u001b[0m\u001b[0m\n",
            "\u001b[0;32m/usr/local/lib/python3.12/dist-packages/tensorflow/python/framework/tensor.py\u001b[0m in \u001b[0;36m__getattr__\u001b[0;34m(self, name)\u001b[0m\n\u001b[1;32m    253\u001b[0m                 \"tolist\", \"data\"}:\n\u001b[1;32m    254\u001b[0m       \u001b[0;31m# TODO(wangpeng): Export the enable_numpy_behavior knob\u001b[0m\u001b[0;34m\u001b[0m\u001b[0;34m\u001b[0m\u001b[0m\n\u001b[0;32m--> 255\u001b[0;31m       raise AttributeError(\n\u001b[0m\u001b[1;32m    256\u001b[0m           f\"{type(self).__name__} object has no attribute '{name}'. \" + \"\"\"\n\u001b[1;32m    257\u001b[0m         \u001b[0mIf\u001b[0m \u001b[0myou\u001b[0m \u001b[0mare\u001b[0m \u001b[0mlooking\u001b[0m \u001b[0;32mfor\u001b[0m \u001b[0mnumpy\u001b[0m\u001b[0;34m-\u001b[0m\u001b[0mrelated\u001b[0m \u001b[0mmethods\u001b[0m\u001b[0;34m,\u001b[0m \u001b[0mplease\u001b[0m \u001b[0mrun\u001b[0m \u001b[0mthe\u001b[0m \u001b[0mfollowing\u001b[0m\u001b[0;34m:\u001b[0m\u001b[0;34m\u001b[0m\u001b[0;34m\u001b[0m\u001b[0m\n",
            "\u001b[0;31mAttributeError\u001b[0m: EagerTensor object has no attribute 'T'. \n        If you are looking for numpy-related methods, please run the following:\n        tf.experimental.numpy.experimental_enable_numpy_behavior()\n      "
          ]
        },
        {
          "output_type": "display_data",
          "data": {
            "text/plain": [
              "<Figure size 1500x500 with 1 Axes>"
            ],
            "image/png": "[encoded data removed]"
          },
          "metadata": {}
        }
      ]
    },
    {
      "cell_type": "code",
      "metadata": {
        "colab": {
          "base_uri": "https://localhost:8080/",
          "height": 447
        },
        "id": "J9Bh6dWKsal_",
        "outputId": "44b16c9b-3db0-48fd-ac8d-7ad5312c3e9e"
      },
      "source": [
        "# ===================================================================\n",
        "# 3. LOAD, EVALUATE, AND VISUALIZE\n",
        "# ===================================================================\n",
        "print(\"\\n--- Loading Best Model ---\")\n",
        "# We must pass our custom functions to 'custom_objects' so Keras knows what they are.\n",
        "best_model = tf.keras.models.load_model(\n",
        "    'best_3d_unet_model.keras',\n",
        "    custom_objects={'dice_loss_plus_bce': dice_loss_plus_bce, 'dice_coefficient': dice_coefficient}\n",
        ")\n",
        "\n",
        "print(\"\\n--- Evaluating on Test Data ---\")\n",
        "# Calculate the number of steps needed to cover the entire test set\n",
        "# Use the length of the subset of test_ids used for processing (which is 2)\n",
        "test_steps = len(test_ids[:2]) // BATCH_SIZE\n",
        "\n",
        "# Evaluate the model, making sure to include the 'steps' argument\n",
        "results = best_model.evaluate(test_dataset, steps=test_steps)\n",
        "\n",
        "print(\"\\n--- Final Test Set Performance ---\")\n",
        "print(f\"Test Loss: {results[0]:.4f}\")\n",
        "print(f\"Test Dice Coefficient: {results[1]:.4f}\")\n",
        "\n",
        "# --- Visualize a Prediction ---\n",
        "print(\"\\n--- Visualizing a sample prediction ---\")\n",
        "# Create a new iterator for the test dataset before getting a batch\n",
        "test_dataset_iterator = iter(test_dataset)\n",
        "test_scan_batch, test_mask_batch = next(test_dataset_iterator)\n",
        "\n",
        "# Make a prediction\n",
        "# The model expects a batch, so we pass the batch even if BATCH_SIZE is 1\n",
        "predicted_mask_batch = best_model.predict(test_scan_batch)\n",
        "\n",
        "# Select the first volume from the batch and remove extra dimensions\n",
        "# Assuming BATCH_SIZE is 1 for simplicity in visualization\n",
        "# Convert EagerTensors to NumPy arrays for visualization\n",
        "input_scan = test_scan_batch[0, ..., 0].numpy()      # Visualizing the FLAIR channel\n",
        "true_mask = test_mask_batch[0, ..., 0].numpy()\n",
        "predicted_mask = predicted_mask_batch[0, ..., 0] # Remove .numpy() here\n",
        "\n",
        "# Choose a slice from the middle to display\n",
        "# Use the shape of the retrieved batch element (now a NumPy array)\n",
        "slice_index = input_scan.shape[2] // 2\n",
        "\n",
        "# Plot the results\n",
        "plt.figure(figsize=(15, 5))\n",
        "\n",
        "plt.subplot(1, 3, 1)\n",
        "# Use .T on the NumPy array\n",
        "plt.imshow(input_scan[:, :, slice_index].T, cmap='gray', origin='lower')\n",
        "plt.title(f'Input Scan (Slice {slice_index})')\n",
        "plt.axis('off')\n",
        "\n",
        "plt.subplot(1, 3, 2)\n",
        "# Use .T on the NumPy array\n",
        "plt.imshow(true_mask[:, :, slice_index].T, cmap='gray', origin='lower')\n",
        "plt.title('True Mask')\n",
        "plt.axis('off')\n",
        "\n",
        "plt.subplot(1, 3, 3)\n",
        "# We use a threshold of 0.5 to get a binary mask from the sigmoid output\n",
        "# Apply thresholding and use .T on the resulting NumPy array\n",
        "plt.imshow((predicted_mask[:, :, slice_index] > 0.5).T, cmap='gray', origin='lower')\n",
        "plt.title('Predicted Mask')\n",
        "plt.axis('off')\n",
        "\n",
        "plt.show()"
      ],
      "execution_count": 45,
      "outputs": [
        {
          "output_type": "stream",
          "name": "stdout",
          "text": [
            "\n",
            "--- Loading Best Model ---\n",
            "\n",
            "--- Evaluating on Test Data ---\n",
            "\u001b[1m2/2\u001b[0m \u001b[32m━━━━━━━━━━━━━━━━━━━━\u001b[0m\u001b[37m\u001b[0m \u001b[1m8s\u001b[0m 3s/step - dice_coefficient: 0.4508 - loss: 0.6424\n",
            "\n",
            "--- Final Test Set Performance ---\n",
            "Test Loss: 0.5222\n",
            "Test Dice Coefficient: 0.5595\n",
            "\n",
            "--- Visualizing a sample prediction ---\n",
            "\u001b[1m1/1\u001b[0m \u001b[32m━━━━━━━━━━━━━━━━━━━━\u001b[0m\u001b[37m\u001b[0m \u001b[1m5s\u001b[0m 5s/step\n"
          ]
        },
        {
          "output_type": "display_data",
          "data": {
            "text/plain": [
              "<Figure size 1500x500 with 3 Axes>"
            ],
            "image/png": "[encoded data removed]"
          },
          "metadata": {}
        }
      ]
    },
    {
      "cell_type": "markdown",
      "metadata": {
        "id": "977ac2de"
      },
      "source": [
        "## Summary:\n",
        "\n",
        "### Data Analysis Key Findings\n",
        "\n",
        "*   Attempting to use the `test_dataset` processed with `tf.py_function` directly with `model.evaluate` resulted in a `ValueError: as_list() is not defined on an unknown TensorShape.`, indicating that the dataset's shape information was lost or not correctly propagated after processing.\n",
        "*   Adding `tensor.set_shape()` calls within the `tf.py_function` did not resolve the shape propagation issue.\n",
        "*   Explicitly defining the expected output shape and dtype using `output_signature` and applying it to the dataset after the `tf.py_function` map using `tf.ensure_shape` successfully resolved the shape-related `ValueError`.\n",
        "*   Retrieving data from the processed `test_dataset` iterator yielded TensorFlow EagerTensors, leading to an `AttributeError: EagerTensor object has no attribute 'T'` when attempting to use NumPy array methods like `.T` for visualization.\n",
        "*   Converting the EagerTensors obtained from the dataset iterator (`test_scan_batch`, `test_mask_batch`) to NumPy arrays using `.numpy()` resolved the `AttributeError` during visualization.\n",
        "*   The output of `model.predict()` was found to be a NumPy array in this execution environment, and attempting to call `.numpy()` on it resulted in an `AttributeError: 'numpy.ndarray' object has no attribute 'numpy'`.\n",
        "\n",
        "### Insights or Next Steps\n",
        "\n",
        "*   When using `tf.py_function` in `tf.data.Dataset` pipelines, it is crucial to explicitly define and ensure the output shape and dtype using `output_signature` and `tf.ensure_shape` to maintain shape information required by downstream TensorFlow operations like model evaluation.\n",
        "*   Be mindful of the data types returned by different parts of the pipeline (e.g., dataset iterators vs. model predictions) and convert them to the expected type (e.g., NumPy arrays for Matplotlib) before performing operations specific to that type.\n"
      ]
    }
  ]
}